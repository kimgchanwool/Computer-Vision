{
 "cells": [
  {
   "cell_type": "markdown",
   "id": "eac448a1",
   "metadata": {},
   "source": [
    "* 영상 연산"
   ]
  },
  {
   "cell_type": "code",
   "execution_count": 2,
   "id": "cb140b2a",
   "metadata": {},
   "outputs": [],
   "source": [
    "import cv2\n",
    "import numpy as np"
   ]
  },
  {
   "cell_type": "code",
   "execution_count": 11,
   "id": "f369f179",
   "metadata": {},
   "outputs": [],
   "source": [
    "# GrayScale"
   ]
  },
  {
   "cell_type": "code",
   "execution_count": 12,
   "id": "83fdcf96",
   "metadata": {},
   "outputs": [],
   "source": [
    "src1 = cv2.imread('./data/lena.jpg', cv2.IMREAD_GRAYSCALE)\n",
    "src2 = np.zeros(shape = src1.shape, dtype=np.uint8) + 50\n",
    "\n",
    "\n",
    "#dst = src + 50 #벡터 연산이라 전 범위에서 50 플러스 됐다. \n",
    "dst = cv2.add(src1,src2)"
   ]
  },
  {
   "cell_type": "code",
   "execution_count": 13,
   "id": "36ccabdd",
   "metadata": {},
   "outputs": [],
   "source": [
    "cv2.imshow('src', src1)\n",
    "cv2.imshow('dst', dst) # 255가 넘는 값들은 255로 나눈 나머지 연산이 되어 0에 가까워진다.\n",
    "cv2.waitKey()\n",
    "cv2.destroyAllWindows()"
   ]
  },
  {
   "cell_type": "code",
   "execution_count": 14,
   "id": "f08c1300",
   "metadata": {},
   "outputs": [],
   "source": [
    "# Color"
   ]
  },
  {
   "cell_type": "code",
   "execution_count": 21,
   "id": "c64f2c03",
   "metadata": {},
   "outputs": [],
   "source": [
    "src1 = cv2.imread('./data/lena.jpg', cv2.IMREAD_COLOR) + 50\n",
    "src2 = np.zeros(shape=src1.shape, dtype=np.uint8) + 50\n",
    "\n",
    "dst = cv2.add(src1 - 50, src2)"
   ]
  },
  {
   "cell_type": "code",
   "execution_count": 22,
   "id": "ff8ddfc1",
   "metadata": {},
   "outputs": [],
   "source": [
    "cv2.imshow('src1', src1)\n",
    "cv2.imshow('dst', dst)\n",
    "cv2.waitKey()\n",
    "cv2.destroyAllWindows()"
   ]
  },
  {
   "cell_type": "markdown",
   "id": "8a34ee3a",
   "metadata": {},
   "source": [
    "* 영상 연산 (비트 연산)"
   ]
  },
  {
   "cell_type": "code",
   "execution_count": 72,
   "id": "8712cecc",
   "metadata": {},
   "outputs": [],
   "source": [
    "lena = cv2.imread('./data/lena.jpg')\n",
    "logo = cv2.imread('./data/opencv_logo.png')\n",
    "\n",
    "rows, cols, channel = logo.shape\n",
    "roi = lena[:rows,:cols]\n",
    "#roi.shape #rows, cols = (172, 199)\n",
    "\n",
    "logo_gray = cv2.cvtColor(logo, cv2.COLOR_BGR2GRAY)\n",
    "ret, mask = cv2.threshold(logo_gray, 160, 255, cv2.THRESH_BINARY)# 요소, 임계값, 0또는 ?에서 ?의 값 ret은 임계치 \n",
    "#역전하려면 _INV를 붙이면 아래의 코드와 같아짐\n",
    "mask_inv = cv2.bitwise_not(mask) #비트연선자로 대척점의 값으로 바꿔준다. 역전함수\n",
    "lena_bg = cv2.bitwise_and(roi, roi, mask = mask) #0인부분은 and라서 사라지고 255인부분은 mask를 받아와서 배경이 그대로 살아난다.\n",
    "logo_fg = cv2.bitwise_and(logo, logo, mask = mask_inv)\n",
    "dst = cv2.bitwise_or(lena_bg, logo_fg)\n",
    "lena[:rows,:cols] = dst\n",
    "\n",
    "cv2.imshow('lena', lena)\n",
    "cv2.waitKey()\n",
    "cv2.destroyAllWindows()"
   ]
  },
  {
   "cell_type": "code",
   "execution_count": 155,
   "id": "ceecce58",
   "metadata": {},
   "outputs": [],
   "source": [
    "field = cv2.imread('./data/field.bmp')\n",
    "airplane = cv2.imread('./data/airplane.bmp')\n",
    "airplane_gray = cv2.imread('./data/airplane.bmp', cv2.IMREAD_GRAYSCALE)\n",
    "\n",
    "ret, mask = cv2.threshold(airplane_gray, 160, 255, cv2.THRESH_BINARY_INV)\n",
    "mask_inv = cv2.bitwise_not(mask)\n",
    "airplane_fg = cv2.bitwise_and(airplane, airplane, mask = mask)\n",
    "field_bg = cv2.bitwise_and(field, field, mask = mask_inv)\n",
    "\n",
    "dst = cv2.bitwise_or(airplane_fg, field_bg)\n",
    "\n",
    "cv2.imshow('dst', dst)\n",
    "cv2.waitKey()\n",
    "cv2.destroyAllWindows()"
   ]
  },
  {
   "cell_type": "code",
   "execution_count": 119,
   "id": "8435b2f7",
   "metadata": {},
   "outputs": [],
   "source": [
    "airplane = cv2.imread('./data/mask_plane.bmp')"
   ]
  },
  {
   "cell_type": "code",
   "execution_count": 153,
   "id": "9c3f2014",
   "metadata": {},
   "outputs": [],
   "source": [
    "field = cv2.imread('./data/field.bmp')\n",
    "airplane = cv2.imread('./data/airplane.bmp')\n",
    "airplane_gray = cv2.imread('./data/mask_plane.bmp', cv2.IMREAD_GRAYSCALE)\n",
    "\n",
    "ret, mask = cv2.threshold(airplane_gray, 163, 255, cv2.THRESH_BINARY)\n",
    "mask_inv = cv2.bitwise_not(mask)\n",
    "airplane_fg = cv2.bitwise_and(airplane, airplane, mask = mask)\n",
    "field_bg = cv2.bitwise_and(field, field, mask = mask_inv)\n",
    "\n",
    "dst = cv2.bitwise_or(airplane_fg, field_bg)\n",
    "\n",
    "cv2.imshow('dst', dst)\n",
    "cv2.waitKey()\n",
    "cv2.destroyAllWindows()"
   ]
  },
  {
   "cell_type": "markdown",
   "id": "4059256a",
   "metadata": {},
   "source": [
    "* 반전영상"
   ]
  },
  {
   "cell_type": "code",
   "execution_count": 156,
   "id": "e15a6315",
   "metadata": {},
   "outputs": [],
   "source": [
    "src1 = cv2.imread('./data/lena.jpg', cv2.IMREAD_GRAYSCALE)\n",
    "src2 = np.zeros(shape=src1.shape, dtype=np.uint8) + 255"
   ]
  },
  {
   "cell_type": "code",
   "execution_count": 157,
   "id": "c338fbf7",
   "metadata": {},
   "outputs": [],
   "source": [
    "dst1 = 255 - src1\n",
    "dst2 = cv2.subtract(src2, src1) #뺄셈 연산인데 255를 빼면 결국 제자리임."
   ]
  },
  {
   "cell_type": "code",
   "execution_count": 159,
   "id": "9b7ea929",
   "metadata": {},
   "outputs": [],
   "source": [
    "cv2.imshow('dst1', dst1)\n",
    "cv2.imshow('dst2', dst2)\n",
    "cv2.waitKey()\n",
    "cv2.destroyAllWindows()"
   ]
  },
  {
   "cell_type": "markdown",
   "id": "634881d2",
   "metadata": {},
   "source": [
    "* 명암비 정규화"
   ]
  },
  {
   "cell_type": "code",
   "execution_count": 160,
   "id": "dd6dcdae",
   "metadata": {},
   "outputs": [],
   "source": [
    "src = cv2.imread('./data/lena.jpg', cv2.IMREAD_GRAYSCALE)\n",
    "\n",
    "minVal, maxVal, minLoc, maxLoc = cv2.minMaxLoc(src)\n",
    "\n",
    "#minVal, maxVal, minLoc, maxLoc #벨류랑 벨류의 위치를 알려줌 위치는 cv2라서 x, y이다. 색인할때는 y, x로 해야함\n",
    "\n",
    "dst = cv2.normalize(src, None, 100, 200, cv2.NORM_MINMAX)\n",
    "\n",
    "minVal, maxVal, minLoc, maxLoc = cv2.minMaxLoc(dst)\n",
    "\n",
    "#minVal, maxVal, minLoc, maxLoc #최소 최대는 무조건 100과 200사이. 흐릿해진다.\n",
    "\n",
    "cv2.imshow('dst', dst)\n",
    "cv2.waitKey()\n",
    "cv2.destroyAllWindows()"
   ]
  },
  {
   "cell_type": "markdown",
   "id": "5f986176",
   "metadata": {},
   "source": [
    "## 영상의 이진화"
   ]
  },
  {
   "cell_type": "code",
   "execution_count": 182,
   "id": "f66a9ce6",
   "metadata": {},
   "outputs": [],
   "source": [
    "src = cv2.imread('./data/Heart10.jpg', cv2.IMREAD_GRAYSCALE)\n",
    "\n",
    "ret, dst = cv2.threshold(src, 180, 255, cv2.THRESH_BINARY)\n",
    "\n",
    "cv2.imshow('dst', dst)\n",
    "cv2.waitKey()\n",
    "cv2.destroyAllWindows()"
   ]
  },
  {
   "cell_type": "code",
   "execution_count": 190,
   "id": "97ca32a1",
   "metadata": {},
   "outputs": [],
   "source": [
    "src = cv2.imread('./data/Heart10.jpg', cv2.IMREAD_GRAYSCALE)\n",
    "\n",
    "ret, dst = cv2.threshold(src, 0, 255, cv2.THRESH_BINARY_INV + cv2.THRESH_OTSU) #오츠로 하면 임계값이 자동이다! 두개를 같이 써야 한다.\n",
    "\n",
    "cv2.imshow('dst', dst)\n",
    "cv2.waitKey()\n",
    "cv2.destroyAllWindows()"
   ]
  },
  {
   "cell_type": "markdown",
   "id": "8084bed4",
   "metadata": {},
   "source": [
    "* 적응형 이진화"
   ]
  },
  {
   "cell_type": "code",
   "execution_count": 218,
   "id": "79274756",
   "metadata": {},
   "outputs": [],
   "source": [
    "src = cv2.imread('./data/srcThreshold.png', cv2.IMREAD_GRAYSCALE) #적응형 이진화는 블럭단위로 나누고 블럭 단위로 이진화 하는 것임\n",
    "\n",
    "ret1, dst1 = cv2.threshold(src, 0, 255, cv2.THRESH_BINARY + cv2.THRESH_OTSU) #이대로는 오른쪽 상단의 그림자가 가려진다."
   ]
  },
  {
   "cell_type": "code",
   "execution_count": 219,
   "id": "60b79b2a",
   "metadata": {},
   "outputs": [
    {
     "data": {
      "text/plain": [
       "149.0"
      ]
     },
     "execution_count": 219,
     "metadata": {},
     "output_type": "execute_result"
    }
   ],
   "source": [
    "ret1"
   ]
  },
  {
   "cell_type": "code",
   "execution_count": 220,
   "id": "d54fcd84",
   "metadata": {},
   "outputs": [],
   "source": [
    "dst2 = cv2.adaptiveThreshold(src, 255, cv2.ADAPTIVE_THRESH_MEAN_C, cv2.THRESH_BINARY, 51, 7) \n",
    "# 대상, 0이 아닌 상대값, 구하는 공식 (가우시안 , 평균),이분화함수, n등분하기, 빼는 값(c)"
   ]
  },
  {
   "cell_type": "code",
   "execution_count": 221,
   "id": "b696f805",
   "metadata": {},
   "outputs": [],
   "source": [
    "dst3 = cv2.adaptiveThreshold(src, 255, cv2.ADAPTIVE_THRESH_GAUSSIAN_C, cv2.THRESH_BINARY, 51, 7) \n",
    "# 대상, 0이 아닌 상대값, 구하는 공식 (가우시안 , 평균),이분화함수, 구역크기는 n*n인데 그중 n, 빼는 값(c)"
   ]
  },
  {
   "cell_type": "code",
   "execution_count": 224,
   "id": "dce7ddcc",
   "metadata": {},
   "outputs": [],
   "source": [
    "cv2.imshow('src', src)\n",
    "cv2.imshow('dst1', dst1)\n",
    "cv2.imshow('dst_mean', dst2) # mean이 더 좋은 듯\n",
    "cv2.imshow('dst_gaussian', dst3)\n",
    "cv2.waitKey()\n",
    "cv2.destroyAllWindows()"
   ]
  },
  {
   "cell_type": "code",
   "execution_count": 466,
   "id": "708eb4e0",
   "metadata": {},
   "outputs": [],
   "source": [
    "src = cv2.imread('./data/0002.jpg', cv2.IMREAD_GRAYSCALE)\n",
    "dst2 = cv2.adaptiveThreshold(src, 255, cv2.ADAPTIVE_THRESH_MEAN_C, cv2.THRESH_BINARY, 51, 7)\n",
    "cv2.imshow('dst_gaussian', dst2)\n",
    "cv2.waitKey()\n",
    "cv2.destroyAllWindows()"
   ]
  },
  {
   "cell_type": "code",
   "execution_count": 468,
   "id": "5eac62cf",
   "metadata": {},
   "outputs": [
    {
     "data": {
      "text/plain": [
       "True"
      ]
     },
     "execution_count": 468,
     "metadata": {},
     "output_type": "execute_result"
    }
   ],
   "source": [
    "cv2.imwrite('./output/0002.jpg', dst2)"
   ]
  },
  {
   "cell_type": "markdown",
   "id": "f41cc740",
   "metadata": {},
   "source": [
    "* 실습"
   ]
  },
  {
   "cell_type": "markdown",
   "id": "418803fa",
   "metadata": {},
   "source": [
    "selectROIs() 함수로 roi 2개를 입력 받아 각각 다른 효과 주기\n",
    "1. 첫번째 roi는 그레이스케일로 변환후 150을 임계값으로 이진화\n",
    "2. 두번째 roi는 반전"
   ]
  },
  {
   "cell_type": "code",
   "execution_count": 278,
   "id": "4cc77132",
   "metadata": {
    "scrolled": true
   },
   "outputs": [],
   "source": [
    "src = cv2.imread('./data/lena.jpg')\n",
    "dst = src.copy()\n",
    "\n",
    "roi1 = cv2.selectROI(dst)\n",
    "roi2 = cv2.selectROI(dst)\n",
    "\n",
    "dst2 = dst[roi1[1]:roi1[1] + roi1[3], roi1[0]: roi1[0] +roi1[2]]\n",
    "\n",
    "dst_gray = cv2.cvtColor(dst2, cv2.COLOR_BGR2GRAY)\n",
    "ret, dst3 = cv2.threshold(dst_gray, 150, 255, cv2.THRESH_BINARY)\n",
    "merge = cv2.merge([dst3, dst3, dst3])\n",
    "\n",
    "dst[roi1[1]:roi1[1] + roi1[3], roi1[0]: roi1[0] +roi1[2]] = merge\n",
    "dst[roi2[1]:roi2[1] + roi2[3], roi2[0]: roi2[0] +roi2[2]] = 255 - dst[roi2[1]:roi2[1] + roi2[3], roi2[0]: roi2[0] +roi2[2]]\n",
    "cv2.imshow('dst', dst)\n",
    "cv2.waitKey()\n",
    "cv2.destroyAllWindows()"
   ]
  },
  {
   "cell_type": "code",
   "execution_count": 273,
   "id": "7333c6e7",
   "metadata": {},
   "outputs": [],
   "source": [
    "src = cv2.imread('./data/lena.jpg')\n",
    "dst = src.copy()\n",
    "\n",
    "rois = cv2.selectROIs('src', src, True, False)\n",
    "\n",
    "idx = 0\n",
    "for r in rois:\n",
    "    tmp = dst[r[1]:r[1]+r[3], r[0]:r[0]+r[2]]\n",
    "    if idx == 0: \n",
    "        tmp = cv2.cvtColor(tmp, cv2.COLOR_BGR2GRAY)\n",
    "        ret, dst1 = cv2.threshold(tmp, 180, 255, cv2.THRESH_BINARY)\n",
    "        dst[r[1]:r[1]+r[3], r[0]:r[0]+r[2]][:, :, 0] = dst1\n",
    "        dst[r[1]:r[1]+r[3], r[0]:r[0]+r[2]][:, :, 1] = dst1\n",
    "        dst[r[1]:r[1]+r[3], r[0]:r[0]+r[2]][:, :, 2] = dst1\n",
    "        \n",
    "    else:\n",
    "        dst[r[1]:r[1]+r[3], r[0]:r[0]+r[2]] = 255 - tmp\n",
    "    idx += 1\n",
    "\n",
    "cv2.imshow('dst', dst)\n",
    "cv2.waitKey()\n",
    "cv2.destroyAllWindows()"
   ]
  },
  {
   "cell_type": "markdown",
   "id": "a5a0ff98",
   "metadata": {},
   "source": [
    "## 히스토그램 분석"
   ]
  },
  {
   "cell_type": "markdown",
   "id": "4281890b",
   "metadata": {},
   "source": [
    "* 히스토그램 분석"
   ]
  },
  {
   "cell_type": "code",
   "execution_count": 280,
   "id": "c399493f",
   "metadata": {},
   "outputs": [],
   "source": [
    "src =  np.array([[0, 0, 0, 0],\n",
    "               [1, 1, 3 ,5],\n",
    "               [6, 1, 1, 3],\n",
    "               [4, 3, 1, 7]], dtype=np.uint8)"
   ]
  },
  {
   "cell_type": "code",
   "execution_count": 285,
   "id": "18b2906b",
   "metadata": {},
   "outputs": [],
   "source": [
    "hist1 = cv2.calcHist(images=[src], channels=[0], mask=None,\n",
    "            histSize=[4], ranges=[0, 8]) # 4개의 구간으로 본다 (0~1, 2~3, 4~5, 6~7)"
   ]
  },
  {
   "cell_type": "code",
   "execution_count": 286,
   "id": "1249e9b0",
   "metadata": {},
   "outputs": [
    {
     "data": {
      "text/plain": [
       "array([[9.],\n",
       "       [3.],\n",
       "       [2.],\n",
       "       [2.]], dtype=float32)"
      ]
     },
     "execution_count": 286,
     "metadata": {},
     "output_type": "execute_result"
    }
   ],
   "source": [
    "hist1 \n",
    "# (0~1, 2~3, 4~5, 6~7) 해당구간에서의 값 개수 0이 4개 5가 5개해서 0~1은 9, 3이 3개라서 2~3은 3, 4가 1개 5가 1개 해서 2개 6, 7 각각 1개씩 해서 2개"
   ]
  },
  {
   "cell_type": "code",
   "execution_count": 289,
   "id": "f376d055",
   "metadata": {},
   "outputs": [],
   "source": [
    "hist2 = cv2.calcHist(images=[src], channels=[0], mask=None,\n",
    "            histSize=[4], ranges=[0, 4]) # 0부터 4까지만 가져오고 나머지 값은 사용 x\n"
   ]
  },
  {
   "cell_type": "code",
   "execution_count": 290,
   "id": "9b151420",
   "metadata": {},
   "outputs": [
    {
     "data": {
      "text/plain": [
       "array([[4.],\n",
       "       [5.],\n",
       "       [0.],\n",
       "       [3.]], dtype=float32)"
      ]
     },
     "execution_count": 290,
     "metadata": {},
     "output_type": "execute_result"
    }
   ],
   "source": [
    "hist2"
   ]
  },
  {
   "cell_type": "code",
   "execution_count": 291,
   "id": "2c91c15d",
   "metadata": {},
   "outputs": [],
   "source": [
    "hist3 = cv2.calcHist(images=[src], channels=[0], mask=None,\n",
    "            histSize=[8], ranges=[0, 8])"
   ]
  },
  {
   "cell_type": "code",
   "execution_count": 292,
   "id": "ff49aa48",
   "metadata": {},
   "outputs": [
    {
     "data": {
      "text/plain": [
       "array([[4.],\n",
       "       [5.],\n",
       "       [0.],\n",
       "       [3.],\n",
       "       [1.],\n",
       "       [1.],\n",
       "       [1.],\n",
       "       [1.]], dtype=float32)"
      ]
     },
     "execution_count": 292,
     "metadata": {},
     "output_type": "execute_result"
    }
   ],
   "source": [
    "hist3"
   ]
  },
  {
   "cell_type": "markdown",
   "id": "e0514597",
   "metadata": {},
   "source": [
    "* 히스토그램 분석(lena 이미지)"
   ]
  },
  {
   "cell_type": "code",
   "execution_count": 301,
   "id": "038e98a2",
   "metadata": {},
   "outputs": [],
   "source": [
    "src = cv2.imread('./data/lena.jpg', cv2.IMREAD_GRAYSCALE)"
   ]
  },
  {
   "cell_type": "code",
   "execution_count": 316,
   "id": "ee932e79",
   "metadata": {},
   "outputs": [],
   "source": [
    "hist_lena = cv2.calcHist(images=[src], channels=[0], mask=None,\n",
    "                        histSize=[32], ranges=[0, 255])"
   ]
  },
  {
   "cell_type": "code",
   "execution_count": null,
   "id": "922257dc",
   "metadata": {},
   "outputs": [],
   "source": [
    "import matplotlib.pyplot as plt\n",
    "\n",
    "hist_lena = hist_lena.flatten()\n",
    "plt.plot(hist_lena, color='orange')\n",
    "binX = np.arange(32)\n",
    "plt.bar(binX, hist_lena, width=1, color='b')"
   ]
  },
  {
   "cell_type": "code",
   "execution_count": 337,
   "id": "1da72049",
   "metadata": {},
   "outputs": [
    {
     "data": {
      "text/plain": [
       "<BarContainer object of 256 artists>"
      ]
     },
     "execution_count": 337,
     "metadata": {},
     "output_type": "execute_result"
    },
    {
     "data": {
      "image/png": "[encoded data removed]",
      "text/plain": [
       "<Figure size 432x288 with 1 Axes>"
      ]
     },
     "metadata": {
      "needs_background": "light"
     },
     "output_type": "display_data"
    }
   ],
   "source": [
    "# lena 2, range is 256\n",
    "\n",
    "hist_lena2 = cv2.calcHist(images=[src], channels=[0], mask=None,\n",
    "                        histSize=[256], ranges=[0, 255])\n",
    "\n",
    "hist_lena2 = hist_lena2.flatten()\n",
    "plt.plot(hist_lena2, color='orange')\n",
    "binX = np.arange(256)\n",
    "plt.bar(binX, hist_lena2, width=1, color='b')"
   ]
  },
  {
   "cell_type": "markdown",
   "id": "33376169",
   "metadata": {},
   "source": [
    "* 채널별 히스토그램 분석 (lena 이미지)"
   ]
  },
  {
   "cell_type": "code",
   "execution_count": 339,
   "id": "0effa26b",
   "metadata": {},
   "outputs": [],
   "source": [
    "src = cv2.imread('./data/lena.jpg')"
   ]
  },
  {
   "cell_type": "code",
   "execution_count": 344,
   "id": "d9c63043",
   "metadata": {},
   "outputs": [
    {
     "data": {
      "image/png": "[encoded data removed]",
      "text/plain": [
       "<Figure size 432x288 with 1 Axes>"
      ]
     },
     "metadata": {
      "needs_background": "light"
     },
     "output_type": "display_data"
    }
   ],
   "source": [
    "Color = ['b', 'g', 'r']\n",
    "\n",
    "for i in range(3):\n",
    "    hist = cv2.calcHist(images=[src], channels=[i], mask=None,\n",
    "                       histSize=[256], ranges=[0, 255])\n",
    "    plt.plot(hist, color=Color[i])\n",
    "# 해석 붉은 톤이 많은 lena는 붉은 톤의 값이 대다수 높은 쪽에 분포해있다. 나머지는 중간 이하."
   ]
  },
  {
   "cell_type": "markdown",
   "id": "a6be0501",
   "metadata": {},
   "source": [
    "* 히스토그램 스트레칭"
   ]
  },
  {
   "cell_type": "code",
   "execution_count": 389,
   "id": "1beafe79",
   "metadata": {},
   "outputs": [
    {
     "data": {
      "image/png": "[encoded data removed]",
      "text/plain": [
       "<Figure size 432x288 with 1 Axes>"
      ]
     },
     "metadata": {
      "needs_background": "light"
     },
     "output_type": "display_data"
    }
   ],
   "source": [
    "src = cv2.imread('./data/hawkes.bmp')\n",
    "color = ['b', 'g', 'r']\n",
    "for i in range(3):\n",
    "    minVal, maxVal, minLoc, macLoc = cv2.minMaxLoc(src[:,:,i])\n",
    "    dst = np.uint8((src[:,:,i]-minVal) / (maxVal - minVal) * 255)\n",
    "    src[:,:,i] = dst\n",
    "    hist = cv2.calcHist(images=[src], channels=[i], mask=None,\n",
    "                    histSize=[256], ranges=[0, 255])\n",
    "    plt.plot(hist, color=Color[i])\n",
    "cv2.imshow('src', src)\n",
    "cv2.waitKey()\n",
    "cv2.destroyAllWindows()"
   ]
  },
  {
   "cell_type": "code",
   "execution_count": 386,
   "id": "07ac12f5",
   "metadata": {},
   "outputs": [
    {
     "data": {
      "text/plain": [
       "<BarContainer object of 256 artists>"
      ]
     },
     "execution_count": 386,
     "metadata": {},
     "output_type": "execute_result"
    },
    {
     "data": {
      "image/png": "[encoded data removed]",
      "text/plain": [
       "<Figure size 432x288 with 1 Axes>"
      ]
     },
     "metadata": {
      "needs_background": "light"
     },
     "output_type": "display_data"
    }
   ],
   "source": [
    "src = cv2.imread('./data/hawkes.bmp', cv2.IMREAD_GRAYSCALE)\n",
    "minVal, maxVal, minLoc, macLoc = cv2.minMaxLoc(src)\n",
    "dst = np.uint8((src-minVal) / (maxVal - minVal) * 255)\n",
    "\n",
    "hist1 = cv2.calcHist(images=[src], channels=[0], mask=None,\n",
    "                histSize=[256], ranges=[0, 255])\n",
    "hist2 = cv2.calcHist(images=[dst], channels=[0], mask=None,\n",
    "                histSize=[256], ranges=[0, 255])\n",
    "hist1 = hist1.flatten()\n",
    "hist2 = hist2.flatten()\n",
    "\n",
    "plt.title('src')\n",
    "binX = np.arange(256)\n",
    "plt.bar(binX, hist1, width=1, color='black')\n",
    "\n",
    "plt.title('dst')\n",
    "binX = np.arange(256)\n",
    "plt.bar(binX, hist2, width=1, color='gray') #src보다 dst가 더 넓게 펴져있다."
   ]
  },
  {
   "cell_type": "markdown",
   "id": "e52ba48e",
   "metadata": {},
   "source": [
    "* 히스토그램 평활화"
   ]
  },
  {
   "cell_type": "code",
   "execution_count": 388,
   "id": "ac94c91e",
   "metadata": {},
   "outputs": [
    {
     "data": {
      "text/plain": [
       "array([[  0,   0,   0,   0],\n",
       "       [106, 106, 170, 212],\n",
       "       [234, 106, 106, 170],\n",
       "       [191, 170, 106, 255]], dtype=uint8)"
      ]
     },
     "execution_count": 388,
     "metadata": {},
     "output_type": "execute_result"
    }
   ],
   "source": [
    "src =  np.array([[0, 0, 0, 0],\n",
    "               [1, 1, 3 ,5],\n",
    "               [6, 1, 1, 3],\n",
    "               [4, 3, 1, 7]], dtype=np.uint8)\n",
    "dst = cv2.equalizeHist(src)\n",
    "dst #각 값을 255의 범위로 만드는데 단순히 값으로 나누는게 아니라 비율로 나누는 듯. min은 0 max는 255"
   ]
  },
  {
   "cell_type": "code",
   "execution_count": 390,
   "id": "6dd2a024",
   "metadata": {},
   "outputs": [],
   "source": [
    "src = cv2.imread('./data/hawkes.bmp', cv2.IMREAD_GRAYSCALE)\n",
    "dst = cv2.equalizeHist(src)\n",
    "cv2.imshow('src', src)\n",
    "cv2.imshow('dst', dst)\n",
    "cv2.waitKey()\n",
    "cv2.destroyAllWindows()"
   ]
  },
  {
   "cell_type": "code",
   "execution_count": 392,
   "id": "83487c2f",
   "metadata": {},
   "outputs": [
    {
     "data": {
      "text/plain": [
       "<BarContainer object of 256 artists>"
      ]
     },
     "execution_count": 392,
     "metadata": {},
     "output_type": "execute_result"
    },
    {
     "data": {
      "image/png": "[encoded data removed]",
      "text/plain": [
       "<Figure size 432x288 with 1 Axes>"
      ]
     },
     "metadata": {
      "needs_background": "light"
     },
     "output_type": "display_data"
    }
   ],
   "source": [
    "hist1 = cv2.calcHist(images=[src], channels=[0], mask=None,\n",
    "                histSize=[256], ranges=[0, 255])\n",
    "hist2 = cv2.calcHist(images=[dst], channels=[0], mask=None,\n",
    "                histSize=[256], ranges=[0, 255])\n",
    "hist1 = hist1.flatten()\n",
    "hist2 = hist2.flatten()\n",
    "\n",
    "plt.title('src')\n",
    "binX = np.arange(256)\n",
    "plt.bar(binX, hist1, width=1, color='black')\n",
    "\n",
    "plt.title('dst')\n",
    "binX = np.arange(256)\n",
    "plt.bar(binX, hist2, width=1, color='gray') #차이가 확연한 것을 볼 수 있다."
   ]
  },
  {
   "cell_type": "markdown",
   "id": "a93a2b28",
   "metadata": {},
   "source": [
    "* 히스토그램 평활화 (peppers 컬러) - fali"
   ]
  },
  {
   "cell_type": "code",
   "execution_count": 413,
   "id": "c8f58163",
   "metadata": {},
   "outputs": [
    {
     "data": {
      "image/png": "[encoded data removed]",
      "text/plain": [
       "<Figure size 432x288 with 1 Axes>"
      ]
     },
     "metadata": {
      "needs_background": "light"
     },
     "output_type": "display_data"
    }
   ],
   "source": [
    "src = cv2.imread('./data/pepper.bmp')\n",
    "dst = src.copy()\n",
    "now = [0, 0, 0]\n",
    "\n",
    "for i in range(3):\n",
    "    temp = dst[:,:,i]\n",
    "    now[i] = cv2.equalizeHist(temp)\n",
    "\n",
    "merge = cv2.merge([now[0], now[1], now[2]])\n",
    "\n",
    "\n",
    "hist1 = cv2.calcHist(images=[src], channels=[0], mask=None,\n",
    "                histSize=[256], ranges=[0, 255])\n",
    "hist2 = cv2.calcHist(images=[merge], channels=[0], mask=None,\n",
    "                histSize=[256], ranges=[0, 255])\n",
    "hist1 = hist1.flatten()\n",
    "hist2 = hist2.flatten()\n",
    "\n",
    "plt.title('src')\n",
    "binX = np.arange(256)\n",
    "plt.bar(binX, hist1, width=1, color='black')\n",
    "\n",
    "plt.title('merge')\n",
    "binX = np.arange(256)\n",
    "plt.bar(binX, hist2, width=1, color='gray') #차이가 확연한 것을 볼 수 있다.\n",
    "\n",
    "cv2.imshow('src', src)\n",
    "cv2.imshow('merge', merge) \n",
    "#각자 평활화 하기에 더 또렷하지 않게 된다. 그래서 컬러를 평활화 할때는 색상은 건드리지 말고, 밝기만 평활화하는게 좋다\n",
    "cv2.waitKey()\n",
    "cv2.destroyAllWindows()"
   ]
  },
  {
   "cell_type": "markdown",
   "id": "a69d7688",
   "metadata": {},
   "source": [
    "* 히스토그램 평활화 (peppers 컬러) - true"
   ]
  },
  {
   "cell_type": "code",
   "execution_count": 428,
   "id": "6d7a0d81",
   "metadata": {},
   "outputs": [],
   "source": [
    "src = cv2.imread('./data/pepper.bmp')\n",
    "\n",
    "YCrCb = cv2.cvtColor(src, cv2.COLOR_BGR2YCrCb)\n",
    "y, Cr, Cb = cv2.split(YCrCb)\n",
    "\n",
    "ye = cv2.equalizeHist(y)\n",
    "dst = cv2.merge([ye, Cr, Cb])\n",
    "dst2 = cv2.cvtColor(dst, cv2.COLOR_YCrCb2BGR)\n",
    "cv2.imshow('src', src)\n",
    "cv2.imshow('dst', dst2) \n",
    "cv2.waitKey()\n",
    "cv2.destroyAllWindows()"
   ]
  },
  {
   "cell_type": "code",
   "execution_count": 430,
   "id": "200b7734",
   "metadata": {},
   "outputs": [
    {
     "data": {
      "image/png": "[encoded data removed]",
      "text/plain": [
       "<Figure size 432x288 with 1 Axes>"
      ]
     },
     "metadata": {
      "needs_background": "light"
     },
     "output_type": "display_data"
    }
   ],
   "source": [
    "src = cv2.imread('./data/pepper.bmp')\n",
    "\n",
    "YCrCb = cv2.cvtColor(src, cv2.COLOR_BGR2YCrCb)\n",
    "y, Cr, Cb = cv2.split(YCrCb)\n",
    "\n",
    "ye = cv2.equalizeHist(y)\n",
    "merge = cv2.merge([ye, Cr, Cb])\n",
    "merge = cv2.cvtColor(dst, cv2.COLOR_YCrCb2BGR)\n",
    "\n",
    "\n",
    "hist1 = cv2.calcHist(images=[src], channels=[0], mask=None,\n",
    "                histSize=[256], ranges=[0, 255])\n",
    "hist2 = cv2.calcHist(images=[merge], channels=[0], mask=None,\n",
    "                histSize=[256], ranges=[0, 255])\n",
    "hist1 = hist1.flatten()\n",
    "hist2 = hist2.flatten()\n",
    "\n",
    "plt.title('src')\n",
    "binX = np.arange(256)\n",
    "plt.bar(binX, hist1, width=1, color='black')\n",
    "\n",
    "plt.title('merge')\n",
    "binX = np.arange(256)\n",
    "plt.bar(binX, hist2, width=1, color='gray') #차이가 확연한 것을 볼 수 있다.\n",
    "\n",
    "cv2.imshow('src', src)\n",
    "cv2.imshow('merge', merge) \n",
    "#각자 평활화 하기에 더 또렷하지 않게 된다. 그래서 컬러를 평활화 할때는 색상은 건드리지 말고, 밝기만 평활화하는게 좋다\n",
    "cv2.waitKey()\n",
    "cv2.destroyAllWindows()"
   ]
  },
  {
   "cell_type": "markdown",
   "id": "6a01b941",
   "metadata": {},
   "source": [
    "* 히스토그램 평활화 (lena) hsv로"
   ]
  },
  {
   "cell_type": "code",
   "execution_count": 456,
   "id": "b57494e7",
   "metadata": {},
   "outputs": [],
   "source": [
    "src = cv2.imread('./data/lena.jpg')\n",
    "\n",
    "dst = cv2.cvtColor(src, cv2.COLOR_BGR2HSV)\n",
    "H, S, V = cv2.split(dst)\n",
    "\n",
    "Ve = cv2.equalizeHist(V)\n",
    "dst1 = cv2.merge([H, S, Ve])\n",
    "dst2 = cv2.cvtColor(dst1, cv2.COLOR_HSV2BGR)\n",
    "\n",
    "cv2.imshow('src', src)\n",
    "cv2.imshow('dst', dst2) \n",
    "cv2.waitKey()\n",
    "cv2.destroyAllWindows()"
   ]
  },
  {
   "cell_type": "code",
   "execution_count": 463,
   "id": "2522e5b8",
   "metadata": {},
   "outputs": [],
   "source": [
    "src = cv2.imread('./data/lena.jpg')\n",
    "\n",
    "YCrCb = cv2.cvtColor(src, cv2.COLOR_BGR2YCrCb)\n",
    "y, Cr, Cb = cv2.split(YCrCb)\n",
    "\n",
    "ye = cv2.equalizeHist(y)\n",
    "dst1 = cv2.merge([ye, Cr, Cb])\n",
    "dst2 = cv2.cvtColor(dst1, cv2.COLOR_YCrCb2BGR)\n",
    "\n",
    "cv2.imshow('src', src)\n",
    "cv2.imshow('dst', dst2) \n",
    "cv2.waitKey()\n",
    "cv2.destroyAllWindows()"
   ]
  },
  {
   "cell_type": "code",
   "execution_count": 462,
   "id": "c5ef4e37",
   "metadata": {},
   "outputs": [
    {
     "data": {
      "image/png": "[encoded data removed]",
      "text/plain": [
       "<Figure size 432x288 with 1 Axes>"
      ]
     },
     "metadata": {
      "needs_background": "light"
     },
     "output_type": "display_data"
    }
   ],
   "source": [
    "src = cv2.imread('./data/lena.jpg')\n",
    "\n",
    "YCrCb = cv2.cvtColor(src, cv2.COLOR_BGR2YCrCb)\n",
    "y, Cr, Cb = cv2.split(YCrCb)\n",
    "\n",
    "ye = cv2.equalizeHist(y)\n",
    "dst1 = cv2.merge([ye, Cr, Cb])\n",
    "dst2 = cv2.cvtColor(dst1, cv2.COLOR_YCrCb2BGR)\n",
    "\n",
    "\n",
    "hist1 = cv2.calcHist(images=[src], channels=[0], mask=None,\n",
    "                histSize=[256], ranges=[0, 255])\n",
    "hist2 = cv2.calcHist(images=[dst2], channels=[0], mask=None,\n",
    "                histSize=[256], ranges=[0, 255])\n",
    "hist1 = hist1.flatten()\n",
    "hist2 = hist2.flatten()\n",
    "\n",
    "plt.title('src')\n",
    "binX = np.arange(256)\n",
    "plt.bar(binX, hist1, width=1, color='r')\n",
    "\n",
    "plt.title('merge')\n",
    "binX = np.arange(256)\n",
    "plt.bar(binX, hist2, width=1, color='g') #차이가 확연한 것을 볼 수 있다.\n",
    "\n",
    "cv2.imshow('src', src)\n",
    "cv2.imshow('merge', dst2) \n",
    "#각자 평활화 하기에 더 또렷하지 않게 된다. 그래서 컬러를 평활화 할때는 색상은 건드리지 말고, 밝기만 평활화하는게 좋다\n",
    "cv2.waitKey()\n",
    "cv2.destroyAllWindows()"
   ]
  },
  {
   "cell_type": "code",
   "execution_count": 459,
   "id": "1a40a246",
   "metadata": {},
   "outputs": [
    {
     "data": {
      "image/png": "[encoded data removed]",
      "text/plain": [
       "<Figure size 432x288 with 1 Axes>"
      ]
     },
     "metadata": {
      "needs_background": "light"
     },
     "output_type": "display_data"
    }
   ],
   "source": [
    "src = cv2.imread('./data/lena.jpg')\n",
    "\n",
    "dst = cv2.cvtColor(src, cv2.COLOR_BGR2HSV)\n",
    "H, S, V = cv2.split(dst)\n",
    "\n",
    "Ve = cv2.equalizeHist(V)\n",
    "dst1 = cv2.merge([H, S, Ve])\n",
    "dst2 = cv2.cvtColor(dst1, cv2.COLOR_HSV2BGR)\n",
    "\n",
    "hist1 = cv2.calcHist(images=[src], channels=[0], mask=None,\n",
    "                histSize=[256], ranges=[0, 255])\n",
    "hist2 = cv2.calcHist(images=[dst2], channels=[0], mask=None,\n",
    "                histSize=[256], ranges=[0, 255])\n",
    "hist1 = hist1.flatten()\n",
    "hist2 = hist2.flatten()\n",
    "\n",
    "plt.title('src')\n",
    "binX = np.arange(256)\n",
    "plt.bar(binX, hist1, width=1, color='r')\n",
    "\n",
    "plt.title('merge')\n",
    "binX = np.arange(256)\n",
    "plt.bar(binX, hist2, width=1, color='g') #차이가 확연한 것을 볼 수 있다.\n",
    "\n",
    "cv2.imshow('src', src)\n",
    "cv2.imshow('merge', dst2) \n",
    "#각자 평활화 하기에 더 또렷하지 않게 된다. 그래서 컬러를 평활화 할때는 색상은 건드리지 말고, 밝기만 평활화하는게 좋다\n",
    "cv2.waitKey()\n",
    "cv2.destroyAllWindows()"
   ]
  },
  {
   "cell_type": "code",
   "execution_count": null,
   "id": "aad93850",
   "metadata": {},
   "outputs": [],
   "source": [
    "cv2.imshow('src', src)\n",
    "cv2.imshow('merge', dst2)\n",
    "cv2.imshow('merge', dst2) \n",
    "cv2.waitKey()\n",
    "cv2.destroyAllWindows()"
   ]
  },
  {
   "cell_type": "markdown",
   "id": "514b4e1a",
   "metadata": {},
   "source": [
    "# 히스토그램 역투영"
   ]
  },
  {
   "cell_type": "markdown",
   "id": "2baf16e2",
   "metadata": {},
   "source": [
    "* 히스토그램 역투영"
   ]
  },
  {
   "cell_type": "code",
   "execution_count": 520,
   "id": "826eefab",
   "metadata": {},
   "outputs": [
    {
     "data": {
      "text/plain": [
       "array([[9.],\n",
       "       [3.],\n",
       "       [2.],\n",
       "       [2.]], dtype=float32)"
      ]
     },
     "execution_count": 520,
     "metadata": {},
     "output_type": "execute_result"
    }
   ],
   "source": [
    "src =  np.array([[0, 0, 0, 0],\n",
    "               [1, 1, 3 ,5],\n",
    "               [6, 1, 1, 3],\n",
    "               [4, 3, 1, 7]], dtype=np.uint8)\n",
    "hist = cv2.calcHist(images=[src], channels=[0], mask=None,\n",
    "                   histSize=[4], ranges=[0, 8])\n",
    "hist"
   ]
  },
  {
   "cell_type": "code",
   "execution_count": 521,
   "id": "e3b76879",
   "metadata": {},
   "outputs": [],
   "source": [
    "backP = cv2.calcBackProject([src], [0], hist, [0, 8], scale=1)"
   ]
  },
  {
   "cell_type": "code",
   "execution_count": 522,
   "id": "241c8720",
   "metadata": {},
   "outputs": [
    {
     "data": {
      "text/plain": [
       "array([[9, 9, 9, 9],\n",
       "       [9, 9, 3, 2],\n",
       "       [2, 9, 9, 3],\n",
       "       [2, 3, 9, 2]], dtype=uint8)"
      ]
     },
     "execution_count": 522,
     "metadata": {},
     "output_type": "execute_result"
    }
   ],
   "source": [
    "backP #나타내는것은 hist에서 나타냈던 빈도수이다."
   ]
  },
  {
   "cell_type": "code",
   "execution_count": 566,
   "id": "1d61b413",
   "metadata": {
    "scrolled": true
   },
   "outputs": [],
   "source": [
    "src = cv2.imread('./data/fruits.jpg')\n",
    "\n",
    "hsv = cv2.cvtColor(src, cv2.COLOR_BGR2HSV)\n",
    "h, s, v = cv2.split(hsv)\n",
    "\n",
    "roi = cv2.selectROI(src)\n",
    "cv2.destroyAllWindows()\n",
    "roi_h = h[roi[1]: roi[1]+roi[3], roi[0] : roi[0] + roi[2]]\n",
    "\n",
    "hist = cv2.calcHist([roi_h], [0], None, [64], [0, 256])\n",
    "backP = cv2.calcBackProject([h.astype(np.float32)], [0], hist, [0, 256], scale = 1)\n",
    "\n",
    "hist = cv2.sort(hist, cv2.SORT_EVERY_COLUMN + cv2.SORT_DESCENDING) #모든 값에 대해 내림차순 정렬\n",
    "T = hist[1][0]\n",
    "ret, dst = cv2.threshold(backP, T, 255, cv2.THRESH_BINARY)\n",
    "a = cv2.bitwise_and(dst, dst, mask=h)\n",
    "cv2.imshow('src', dst)\n",
    "cv2.imshow('dst', a)\n",
    "cv2.waitKey()\n",
    "cv2.destroyAllWindows()"
   ]
  },
  {
   "cell_type": "code",
   "execution_count": 558,
   "id": "2413770c",
   "metadata": {},
   "outputs": [
    {
     "data": {
      "text/plain": [
       "(480, 512)"
      ]
     },
     "execution_count": 558,
     "metadata": {},
     "output_type": "execute_result"
    }
   ],
   "source": [
    "dst.shape"
   ]
  },
  {
   "cell_type": "code",
   "execution_count": 559,
   "id": "bfbc66d8",
   "metadata": {},
   "outputs": [
    {
     "data": {
      "text/plain": [
       "(480, 512, 3)"
      ]
     },
     "execution_count": 559,
     "metadata": {},
     "output_type": "execute_result"
    }
   ],
   "source": [
    "src.shape"
   ]
  },
  {
   "cell_type": "code",
   "execution_count": 571,
   "id": "08ef35ef",
   "metadata": {},
   "outputs": [
    {
     "ename": "error",
     "evalue": "OpenCV(4.5.2) C:\\Users\\runneradmin\\AppData\\Local\\Temp\\pip-req-build-_8k9tw8n\\opencv\\modules\\core\\src\\arithm.cpp:230: error: (-215:Assertion failed) (mtype == CV_8U || mtype == CV_8S) && _mask.sameSize(*psrc1) in function 'cv::binary_op'\n",
     "output_type": "error",
     "traceback": [
      "\u001b[1;31m---------------------------------------------------------------------------\u001b[0m",
      "\u001b[1;31merror\u001b[0m                                     Traceback (most recent call last)",
      "\u001b[1;32m<ipython-input-571-6527c3191e35>\u001b[0m in \u001b[0;36m<module>\u001b[1;34m\u001b[0m\n\u001b[1;32m----> 1\u001b[1;33m \u001b[0ma\u001b[0m \u001b[1;33m=\u001b[0m \u001b[0mcv2\u001b[0m\u001b[1;33m.\u001b[0m\u001b[0mbitwise_and\u001b[0m\u001b[1;33m(\u001b[0m\u001b[0mh\u001b[0m\u001b[1;33m,\u001b[0m \u001b[0mh\u001b[0m\u001b[1;33m,\u001b[0m \u001b[0mmask\u001b[0m\u001b[1;33m=\u001b[0m\u001b[0mdst\u001b[0m\u001b[1;33m)\u001b[0m\u001b[1;33m\u001b[0m\u001b[1;33m\u001b[0m\u001b[0m\n\u001b[0m\u001b[0;32m      2\u001b[0m \u001b[0mcv2\u001b[0m\u001b[1;33m.\u001b[0m\u001b[0mimshow\u001b[0m\u001b[1;33m(\u001b[0m\u001b[1;34m'dst'\u001b[0m\u001b[1;33m,\u001b[0m \u001b[0ma\u001b[0m\u001b[1;33m)\u001b[0m\u001b[1;33m\u001b[0m\u001b[1;33m\u001b[0m\u001b[0m\n\u001b[0;32m      3\u001b[0m \u001b[0mcv2\u001b[0m\u001b[1;33m.\u001b[0m\u001b[0mwaitKey\u001b[0m\u001b[1;33m(\u001b[0m\u001b[1;33m)\u001b[0m\u001b[1;33m\u001b[0m\u001b[1;33m\u001b[0m\u001b[0m\n\u001b[0;32m      4\u001b[0m \u001b[0mcv2\u001b[0m\u001b[1;33m.\u001b[0m\u001b[0mdestroyAllWindows\u001b[0m\u001b[1;33m(\u001b[0m\u001b[1;33m)\u001b[0m\u001b[1;33m\u001b[0m\u001b[1;33m\u001b[0m\u001b[0m\n",
      "\u001b[1;31merror\u001b[0m: OpenCV(4.5.2) C:\\Users\\runneradmin\\AppData\\Local\\Temp\\pip-req-build-_8k9tw8n\\opencv\\modules\\core\\src\\arithm.cpp:230: error: (-215:Assertion failed) (mtype == CV_8U || mtype == CV_8S) && _mask.sameSize(*psrc1) in function 'cv::binary_op'\n"
     ]
    }
   ],
   "source": [
    "a = cv2.bitwise_and(h, h, mask=dst)\n",
    "cv2.imshow('dst', a)\n",
    "cv2.waitKey()\n",
    "cv2.destroyAllWindows()"
   ]
  },
  {
   "cell_type": "code",
   "execution_count": 552,
   "id": "168d97c0",
   "metadata": {},
   "outputs": [
    {
     "data": {
      "text/plain": [
       "array([], dtype=float32)"
      ]
     },
     "execution_count": 552,
     "metadata": {},
     "output_type": "execute_result"
    }
   ],
   "source": [
    "dst[dst > 255]"
   ]
  },
  {
   "cell_type": "code",
   "execution_count": 540,
   "id": "aed79c35",
   "metadata": {},
   "outputs": [
    {
     "data": {
      "text/plain": [
       "array([[0, 0, 0, ..., 0, 0, 0],\n",
       "       [0, 0, 0, ..., 0, 0, 0],\n",
       "       [0, 0, 0, ..., 0, 0, 0],\n",
       "       ...,\n",
       "       [0, 0, 0, ..., 0, 0, 0],\n",
       "       [0, 0, 0, ..., 0, 0, 0],\n",
       "       [0, 0, 0, ..., 0, 0, 0]], dtype=uint8)"
      ]
     },
     "execution_count": 540,
     "metadata": {},
     "output_type": "execute_result"
    }
   ],
   "source": [
    "backP"
   ]
  },
  {
   "cell_type": "code",
   "execution_count": null,
   "id": "070f85ae",
   "metadata": {},
   "outputs": [],
   "source": []
  },
  {
   "cell_type": "code",
   "execution_count": null,
   "id": "4a88d09f",
   "metadata": {},
   "outputs": [],
   "source": []
  }
 ],
 "metadata": {
  "kernelspec": {
   "display_name": "Python 3",
   "language": "python",
   "name": "python3"
  },
  "language_info": {
   "codemirror_mode": {
    "name": "ipython",
    "version": 3
   },
   "file_extension": ".py",
   "mimetype": "text/x-python",
   "name": "python",
   "nbconvert_exporter": "python",
   "pygments_lexer": "ipython3",
   "version": "3.8.8"
  }
 },
 "nbformat": 4,
 "nbformat_minor": 5
}
