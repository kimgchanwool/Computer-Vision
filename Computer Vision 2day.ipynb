{
 "cells": [
  {
   "cell_type": "code",
   "execution_count": null,
   "id": "db93cb05",
   "metadata": {},
   "outputs": [],
   "source": [
    "실습 7. 비디오 캡처와 화면 표시 1 (카메라 디바이스)"
   ]
  },
  {
   "cell_type": "code",
   "execution_count": null,
   "id": "a13d5d99",
   "metadata": {},
   "outputs": [],
   "source": [
    "cap = cv2.VideoCapture('man_output.mp4')\n",
    "\n",
    "frame_size = (int(cap.get(cv2.CAP_PROP_FRAME_WIDTH)), int(cap.get(cv2.CAP_PROP_FRAME_HEIGHT)))\n",
    "print(frame_size)\n",
    "\n",
    "while True:\n",
    "    retval, frame = cap.read() #프레임 캡쳐\n",
    "    if not retval:\n",
    "        break\n",
    "        \n",
    "    cv2.imshow('frame', frame)\n",
    "    \n",
    "    key = cv2.waitKey(25)\n",
    "    if key == 27: #ESC\n",
    "        break\n",
    "if cap.isOpened(): #혹시나 처음부터 오류가 났을때 release를 못하니까.\n",
    "    cap.release()\n",
    "    \n",
    "cv2.destroyAllWindows()"
   ]
  },
  {
   "cell_type": "code",
   "execution_count": null,
   "id": "6c76632c",
   "metadata": {},
   "outputs": [],
   "source": [
    "cap = cv2.VideoCapture('./data/vtest.avi')\n",
    "\n",
    "frame_size = (int(cap.get(cv2.CAP_PROP_FRAME_WIDTH)),int(cap.get(cv2.CAP_PROP_FRAME_HEIGHT)))\n",
    "\n",
    "\n",
    "cap.set(cv2.CAP_PROP_FRAME_WIDTH, 1000)\n",
    "cap.set(cv2.CAP_PROP_FRAME_HEIGHT, 1000)\n",
    "\n",
    "print(frame_size)\n",
    "\n",
    "while True:\n",
    "    retval, frame = cap.read() # 프레임 캡쳐\n",
    "    if not retval:\n",
    "        break\n",
    "        \n",
    "    cv2.imshow(\"frame\", frame)\n",
    "    cv2.imshow(\"frame2\", 255 - frame) #255에서 뺀 값이므로 정 반대가 된다\n",
    "    \n",
    "    key = cv2.waitKey(25)\n",
    "    if key == 27: #esc\n",
    "        break\n",
    "\n",
    "if cap.isOpened():        \n",
    "    cap.release()\n",
    "\n",
    "cv2.destroyAllWindows()\n"
   ]
  },
  {
   "cell_type": "markdown",
   "id": "ca30c3fc",
   "metadata": {},
   "source": [
    "* 비디오 캡처와 화면 표시 2 (외부 URL : 드로이드캠에서 촬영한 영상)"
   ]
  },
  {
   "cell_type": "code",
   "execution_count": null,
   "id": "1f30b9e9",
   "metadata": {},
   "outputs": [],
   "source": [
    "cap = cv2.VideoCapture('http://172.30.1.60:4747/videofeed')\n",
    "\n",
    "frame_size = (int(cap.get(cv2.CAP_PROP_FRAME_WIDTH)), int(cap.get(cv2.CAP_PROP_FRAME_HEIGHT)))\n",
    "print(frame_size)\n",
    "\n",
    "while True:\n",
    "    retval, frame = cap.read() #프레임 캡쳐\n",
    "    if not retval:\n",
    "        break\n",
    "        \n",
    "    cv2.imshow('frame', frame)\n",
    "    \n",
    "    key = cv2.waitKey(25)\n",
    "    if key == 27: #ESC\n",
    "        break\n",
    "if cap.isOpened(): #혹시나 처음부터 오류가 났을때 release를 못하니까.\n",
    "    cap.release()\n",
    "    \n",
    "cv2.destroyAllWindows()"
   ]
  },
  {
   "cell_type": "markdown",
   "id": "c14ca959",
   "metadata": {},
   "source": [
    "!pip install pafy\n",
    "!pip install youtube_dl"
   ]
  },
  {
   "cell_type": "code",
   "execution_count": 1,
   "id": "f503c192",
   "metadata": {},
   "outputs": [],
   "source": [
    "import cv2\n",
    "import pafy\n",
    "import youtube_dl"
   ]
  },
  {
   "cell_type": "code",
   "execution_count": 4,
   "id": "a92bd20a",
   "metadata": {},
   "outputs": [],
   "source": [
    "url = 'https://youtu.be/nHY5ElScbmQ'"
   ]
  },
  {
   "cell_type": "code",
   "execution_count": 5,
   "id": "2055fc13",
   "metadata": {},
   "outputs": [],
   "source": [
    "video = pafy.new(url)"
   ]
  },
  {
   "cell_type": "code",
   "execution_count": 8,
   "id": "5b048342",
   "metadata": {},
   "outputs": [
    {
     "name": "stdout",
     "output_type": "stream",
     "text": [
      "title =  곧 군입대 하는 친구들을 위한 만화\n",
      "video.rating =  4.9292107\n",
      "duration =  00:03:23\n"
     ]
    }
   ],
   "source": [
    "print('title = ', video.title) #제목\n",
    "print('video.rating = ', video.rating) #등급\n",
    "print('duration = ', video.duration) #러닝타임"
   ]
  },
  {
   "cell_type": "code",
   "execution_count": 11,
   "id": "ab6f7450",
   "metadata": {},
   "outputs": [],
   "source": [
    "best = video.getbest()"
   ]
  },
  {
   "cell_type": "code",
   "execution_count": 13,
   "id": "24a97468",
   "metadata": {},
   "outputs": [
    {
     "data": {
      "text/plain": [
       "'https://r7---sn-3u-bh2el.googlevideo.com/videoplayback?expire=1629357063&ei=p68dYZfoMbevlQTYzqWgCw&ip=175.192.10.44&id=o-AFhjZH9QQfearWqYKslsyaeVDVhr8QzUBN8DqTP9BLuB&itag=22&source=youtube&requiressl=yes&mh=Ma&mm=31%2C26&mn=sn-3u-bh2el%2Csn-oguesnzd&ms=au%2Conr&mv=m&mvi=7&pl=21&initcwndbps=662500&vprv=1&mime=video%2Fmp4&ns=pKM1vjkJ5W-cJdMduaRKPLQG&cnr=14&ratebypass=yes&dur=202.501&lmt=1591957148221002&mt=1629335093&fvip=1&fexp=24001373%2C24007246&c=WEB&txp=5432432&n=ThZ-JLATeAfrElREA&sparams=expire%2Cei%2Cip%2Cid%2Citag%2Csource%2Crequiressl%2Cvprv%2Cmime%2Cns%2Ccnr%2Cratebypass%2Cdur%2Clmt&sig=AOq0QJ8wRgIhALDxJBqzcCOnXQZnS-Isf5sqeAjnyOFrdtKnGy_TXZHwAiEAvPeOI_uykT3mnJymQX0nm2vBdUtEJV8WcNEH8c_whxs%3D&lsparams=mh%2Cmm%2Cmn%2Cms%2Cmv%2Cmvi%2Cpl%2Cinitcwndbps&lsig=AG3C_xAwRQIhAMgPm07lyhjyQvHw34AoKORyKRF0bXbD34MlMdmOoz7EAiBeBi6XkinkJn_QZQj1FtnO3rbv6Qy91_-qJmqBy3PZmw%3D%3D'"
      ]
     },
     "execution_count": 13,
     "metadata": {},
     "output_type": "execute_result"
    }
   ],
   "source": [
    "best.url #다운로드 가능한 url"
   ]
  },
  {
   "cell_type": "code",
   "execution_count": 17,
   "id": "9d9a132c",
   "metadata": {},
   "outputs": [
    {
     "name": "stdout",
     "output_type": "stream",
     "text": [
      "best resolution =  992x720\n"
     ]
    }
   ],
   "source": [
    "print('best resolution = ', best.resolution) #video의 사이즈 알려준다."
   ]
  },
  {
   "cell_type": "code",
   "execution_count": 29,
   "id": "98064aba",
   "metadata": {},
   "outputs": [],
   "source": [
    "cap = cv2.VideoCapture(best.url)\n",
    "\n",
    "while True:\n",
    "    retval, frame = cap.read() #프레임 캡쳐\n",
    "    if not retval:\n",
    "        break\n",
    "        \n",
    "    cv2.imshow('frame', frame)\n",
    "    \n",
    "    key = cv2.waitKey(25) #ms단위로 멈추는 것이다. 1ms면 엄청 빠르다.\n",
    "    if key == 27: #ESC\n",
    "        break\n",
    "if cap.isOpened(): #혹시나 처음부터 오류가 났을때 release를 못하니까.\n",
    "    cap.release()\n",
    "    \n",
    "cv2.destroyAllWindows()"
   ]
  },
  {
   "cell_type": "markdown",
   "id": "35e661b7",
   "metadata": {},
   "source": [
    "* 비디오 파일 저장"
   ]
  },
  {
   "cell_type": "code",
   "execution_count": 11,
   "id": "9218af8f",
   "metadata": {
    "scrolled": true
   },
   "outputs": [
    {
     "name": "stdout",
     "output_type": "stream",
     "text": [
      "(374, 666)\n"
     ]
    }
   ],
   "source": [
    "cap = cv2.VideoCapture('man_output.mp4')\n",
    "\n",
    "frame_size = (int(cap.get(cv2.CAP_PROP_FRAME_WIDTH)), int(cap.get(cv2.CAP_PROP_FRAME_HEIGHT)))\n",
    "print(frame_size)\n",
    "\n",
    "fourcc = cv2.VideoWriter_fourcc(*'XVID') #XVID 코덱으로 저장하기위해 코덱정보를 만듦\n",
    "\n",
    "fps = 50.0 #초당 25ms가 되면 꽤 볼만함 낮아지면 끊기고 높아지면 숭숭 넘어간다.\n",
    "\n",
    "out1 = cv2.VideoWriter('output/record1.mp4', fourcc, fps, frame_size) #이름, 코덱정보, 프레임으로 만드는 객체를 만듦\n",
    "out2 = cv2.VideoWriter('output/record2.mp4', fourcc, fps, frame_size, isColor=False)\n",
    "\n",
    "while True:\n",
    "    retval, frame = cap.read() #프레임 캡쳐\n",
    "    if not retval:\n",
    "        break\n",
    "        \n",
    "    cv2.imshow('frame', frame)\n",
    "\n",
    "    out1.write(frame) #이제 데이터 입력하고 진짜 만드는 것.\n",
    "    \n",
    "    gray = cv2.cvtColor(frame, cv2.COLOR_BGR2GRAY)\n",
    "    cv2.imshow('frame2', gray)\n",
    "    out2.write(gray)\n",
    "    \n",
    "    \n",
    "    key = cv2.waitKey(25) #ms단위로 멈추는 것이다. 1ms면 엄청 빠르다.\n",
    "    if key == 27: #ESC\n",
    "        break\n",
    "if cap.isOpened(): #혹시나 처음부터 오류가 났을때 release를 못하니까.\n",
    "    cap.release()\n",
    "    \n",
    "cv2.destroyAllWindows()\n",
    "out1.release() #out객체 역시 여는 것과 반대로 저장하는 것이기에 release해야한다\n",
    "out2.release()"
   ]
  },
  {
   "cell_type": "markdown",
   "id": "cba15bd9",
   "metadata": {},
   "source": [
    "* edge만 가져오기"
   ]
  },
  {
   "cell_type": "code",
   "execution_count": 14,
   "id": "668349c9",
   "metadata": {},
   "outputs": [
    {
     "name": "stdout",
     "output_type": "stream",
     "text": [
      "(374, 666)\n"
     ]
    }
   ],
   "source": [
    "cap = cv2.VideoCapture('man_output.mp4')\n",
    "\n",
    "frame_size = (int(cap.get(cv2.CAP_PROP_FRAME_WIDTH)), int(cap.get(cv2.CAP_PROP_FRAME_HEIGHT)))\n",
    "print(frame_size)\n",
    "\n",
    "\n",
    "while True:\n",
    "    retval, frame = cap.read() #프레임 캡쳐\n",
    "    if not retval:\n",
    "        break\n",
    "    gray = cv2.cvtColor(frame, cv2.COLOR_BGR2GRAY)\n",
    "    edges = cv2.Canny(gray, 100, 200)    \n",
    "    cv2.imshow('frame2', gray)\n",
    "\n",
    "    cv2.imshow('edge', edges)\n",
    "    \n",
    "    \n",
    "    key = cv2.waitKey(25) #ms단위로 멈추는 것이다. 1ms면 엄청 빠르다.\n",
    "    if key == 27: #ESC\n",
    "        break\n",
    "if cap.isOpened(): #혹시나 처음부터 오류가 났을때 release를 못하니까.\n",
    "    cap.release()\n",
    "    \n",
    "cv2.destroyAllWindows()"
   ]
  },
  {
   "cell_type": "markdown",
   "id": "82a71fe3",
   "metadata": {},
   "source": [
    "* 비디오 파일 저장 (youtube에서 다운로드 받은 파일 / 드로이드 캠에서 얻어온 영상)"
   ]
  },
  {
   "cell_type": "code",
   "execution_count": 11,
   "id": "659b19c4",
   "metadata": {},
   "outputs": [
    {
     "data": {
      "text/plain": [
       "'https://r7---sn-3u-bh2el.googlevideo.com/videoplayback?expire=1629361424&ei=sMAdYc2rLOyK1d8Px_i1wA8&ip=175.192.10.44&id=o-AG2LJfBFbgcDld4xWXne1UWMozAaRrdg3Jv7k0Xf4zu5&itag=22&source=youtube&requiressl=yes&mh=Ma&mm=31%2C26&mn=sn-3u-bh2el%2Csn-oguelned&ms=au%2Conr&mv=m&mvi=7&pl=21&initcwndbps=748750&vprv=1&mime=video%2Fmp4&ns=8xP0Lvr8LqFYUJzMGrFhGz8G&cnr=14&ratebypass=yes&dur=202.501&lmt=1591957148221002&mt=1629339651&fvip=1&fexp=24001373%2C24007246&c=WEB&txp=5432432&n=KAZ1DICTfEBmxXIO7&sparams=expire%2Cei%2Cip%2Cid%2Citag%2Csource%2Crequiressl%2Cvprv%2Cmime%2Cns%2Ccnr%2Cratebypass%2Cdur%2Clmt&sig=AOq0QJ8wRQIhAMpbVyVLfsIj_WRZ74TdV7FXMLm1CHVvTVa4xkpzXbRrAiAjDsOQrDdRbb8OrJ6o0ED14WJdl2JAKbpgF7fHewvfoQ%3D%3D&lsparams=mh%2Cmm%2Cmn%2Cms%2Cmv%2Cmvi%2Cpl%2Cinitcwndbps&lsig=AG3C_xAwRAIgTyR0SNnf1dqYS87S82SUW5T1jn-9V6F1wzv9tKorpykCIHx0yUTC2Wv8OVUyPBSTMZmYbHjG5YB56_LUy6typMYB'"
      ]
     },
     "execution_count": 11,
     "metadata": {},
     "output_type": "execute_result"
    }
   ],
   "source": [
    "url = 'https://youtu.be/nHY5ElScbmQ'\n",
    "\n",
    "new = pafy.new(url)\n",
    "\n",
    "best = new.getbest()\n",
    "\n",
    "best.url"
   ]
  },
  {
   "cell_type": "code",
   "execution_count": 16,
   "id": "04a53eed",
   "metadata": {},
   "outputs": [
    {
     "name": "stdout",
     "output_type": "stream",
     "text": [
      "(992, 720)\n"
     ]
    }
   ],
   "source": [
    "cap = cv2.VideoCapture(best.url)\n",
    "\n",
    "frame_size = (int(cap.get(cv2.CAP_PROP_FRAME_WIDTH)), int(cap.get(cv2.CAP_PROP_FRAME_HEIGHT)))\n",
    "fourcc = cv2.VideoWriter_fourcc(*'XVID')\n",
    "fps = 50.0\n",
    "out = cv2.VideoWriter('output/record_youtube.mp4', fourcc, fps, frame_size)\n",
    "print(frame_size)\n",
    "\n",
    "while True:\n",
    "    retval, frame = cap.read() #프레임 캡쳐\n",
    "    if not retval:\n",
    "        print(1)\n",
    "        break\n",
    "    edge = cv2.Canny(frame, 100, 200)\n",
    "    cv2.imshow('now', frame)\n",
    "    cv2.imshow('edge', edge)\n",
    "    out.write(frame)\n",
    "    key = cv2.waitKey(25) #ms단위로 멈추는 것이다. 1ms면 엄청 빠르다.\n",
    "    if key == 27: #ESC\n",
    "        break\n",
    "\n",
    "if cap.isOpened(): #혹시나 처음부터 오류가 났을때 release를 못하니까.\n",
    "    cap.release()    \n",
    "cv2.destroyAllWindows()\n",
    "out.release()"
   ]
  },
  {
   "cell_type": "code",
   "execution_count": 3,
   "id": "f2f0864c",
   "metadata": {
    "scrolled": true
   },
   "outputs": [
    {
     "data": {
      "text/plain": [
       "'https://r7---sn-3u-bh2el.googlevideo.com/videoplayback?expire=1629362229&ei=1cMdYYPBGYPa4gKZtob4BA&ip=175.192.10.44&id=o-ADJUNv3vE_5H4AgueeO3L5GZVBzGW7ByMR0gynGaREH2&itag=22&source=youtube&requiressl=yes&mh=Ma&mm=31%2C26&mn=sn-3u-bh2el%2Csn-oguesnzd&ms=au%2Conr&mv=m&mvi=7&pl=21&initcwndbps=736250&vprv=1&mime=video%2Fmp4&ns=jtWgdD94NItLmOASx-Aw_NYG&cnr=14&ratebypass=yes&dur=202.501&lmt=1591957148221002&mt=1629340371&fvip=1&fexp=24001373%2C24007246&c=WEB&txp=5432432&n=_XEnXhba9OFeUHIht&sparams=expire%2Cei%2Cip%2Cid%2Citag%2Csource%2Crequiressl%2Cvprv%2Cmime%2Cns%2Ccnr%2Cratebypass%2Cdur%2Clmt&sig=AOq0QJ8wRAIgWmUDXVbxCGf5rqi1_QbGYI65RPgX_d4b257uQIvhoCACIA1O59rH1zAqjJIjZGQH1_II2e-nPe1vcTSI77xluLVD&lsparams=mh%2Cmm%2Cmn%2Cms%2Cmv%2Cmvi%2Cpl%2Cinitcwndbps&lsig=AG3C_xAwRQIhAPo1CprqTDoeKhaDgJnKOH2XpuJC-W8vfSjFa8o3DpF0AiByvZrL19qnfmSpCwILoxq1wOOs4hYS1fNG8K_p5TO09g%3D%3D'"
      ]
     },
     "execution_count": 3,
     "metadata": {},
     "output_type": "execute_result"
    }
   ],
   "source": [
    "url = 'https://youtu.be/nHY5ElScbmQ'\n",
    "\n",
    "new = pafy.new(url)\n",
    "\n",
    "best = new.getbest()\n",
    "\n",
    "best.url"
   ]
  },
  {
   "cell_type": "code",
   "execution_count": 377,
   "id": "7f966a3a",
   "metadata": {},
   "outputs": [
    {
     "name": "stdout",
     "output_type": "stream",
     "text": [
      "(992, 720)\n"
     ]
    }
   ],
   "source": [
    "cap = cv2.VideoCapture(best.url)\n",
    "\n",
    "frame_size = (int(cap.get(cv2.CAP_PROP_FRAME_WIDTH)), int(cap.get(cv2.CAP_PROP_FRAME_HEIGHT)))\n",
    "\n",
    "print(frame_size)\n",
    "fourcc = cv2.VideoWriter_fourcc(*'XVID')\n",
    "fps = 25.0\n",
    "\n",
    "out3 = cv2.VideoWriter('./output/self1.mp4', fourcc, fps, frame_size, isColor=False)\n",
    "\n",
    "while True:\n",
    "    retval, frame = cap.read()\n",
    "    if not retval:\n",
    "        break\n",
    "        \n",
    "    cv2.imshow(\"frame\", frame)\n",
    "    \n",
    "    gray = cv2.cvtColor(frame, cv2.COLOR_BGR2GRAY)\n",
    "    \n",
    "    out3.write(gray)\n",
    "    cv2.imshow(\"frame\", gray)\n",
    "    key = cv2.waitKey(25)\n",
    "    if key == 27:\n",
    "        break\n",
    "        \n",
    "if cap.isOpened():\n",
    "    cap.release()\n",
    "    \n",
    "out3.release()\n",
    "cv2.destroyAllWindows()"
   ]
  },
  {
   "cell_type": "markdown",
   "id": "3f3c16f0",
   "metadata": {},
   "source": [
    "## 그래픽 및 이벤트 처리"
   ]
  },
  {
   "cell_type": "markdown",
   "id": "aee6a533",
   "metadata": {},
   "source": [
    "* 직선 및 사각형 그리기"
   ]
  },
  {
   "cell_type": "code",
   "execution_count": 6,
   "id": "f57b0334",
   "metadata": {},
   "outputs": [],
   "source": [
    "import numpy as np"
   ]
  },
  {
   "cell_type": "code",
   "execution_count": 110,
   "id": "f03c328d",
   "metadata": {},
   "outputs": [],
   "source": [
    "img = np.zeros((512, 512, 3), dtype=np.uint8) + 255 #양수만 존재하므로 unsinged 그리고 256까지이므로 int8을 쓴다. 0은 색으로 따지면 검정 255 더해서 하얀색으로 만듬\n",
    "\n",
    "img.shape\n",
    "\n",
    "pt1 = 100, 100 # left, top\n",
    "pt2 = 400, 400 # right, bottom 순이지만 결국에 점의 위치 이므로 top이 bottom보다 낮게 있어도 상관 없다.\n",
    "\n",
    "pt3 = 0, 0\n",
    "pt4 = 500, 0\n",
    "\n",
    "pt5 = 0, 0\n",
    "pt6 = 0, 500\n",
    "\n",
    "b = np.random.randint(256)\n",
    "g = np.random.randint(256)\n",
    "r = np.random.randint(256)\n",
    "\n",
    "cv2.rectangle(img, pt1, pt2, (r,g,b), 2) #포인트를 연결 100, 100과 400, 400을 연결해서 사각형을 만든다. 마지막 2는 선의 굵기 \n",
    "#자동 저장되므로 안 받아 와도 된다.\n",
    "cv2.line(img, pt3, pt4, (b,g,r), 5)\n",
    "cv2.line(img, pt5, pt6, (g,b,r), 5)\n",
    "\n",
    "cv2.imshow('img', img)\n",
    "cv2.waitKey()\n",
    "cv2.destroyAllWindows()"
   ]
  },
  {
   "cell_type": "markdown",
   "id": "61a4788b",
   "metadata": {},
   "source": [
    "* 좌표"
   ]
  },
  {
   "cell_type": "code",
   "execution_count": 131,
   "id": "44bc631c",
   "metadata": {},
   "outputs": [],
   "source": [
    "img = np.zeros((512, 512, 3), dtype=np.uint8) + 255\n",
    "\n",
    "\n",
    "b = np.random.randint(256)\n",
    "g = np.random.randint(256)\n",
    "r = np.random.randint(256)\n",
    "\n",
    "x1, y1 = 100, 100\n",
    "x2 = y2 = 400\n",
    "\n",
    "cv2.rectangle(img, (x1, y1), (x2, y2), (r, g, b), 2)\n",
    "\n",
    "x3, y3 = 120, 50\n",
    "x4, y4 = 300, 500\n",
    "\n",
    "cv2.line(img, (x3, y3), (x4, y4), (b, g, r), 2)\n",
    "\n",
    "imgRect = (x1, y1, x2-x1, y2-y1)\n",
    "retval, rpt1, rpt2 = cv2.clipLine(imgRect, (x3, y3), (x4, y4)) #clipline은 도형과 두 점을 이은 라인이 겹치는 곳. 도형은 도형의 점, 길이를 알고 있어야함\n",
    "if retval:\n",
    "    cv2.circle(img, rpt1, radius=5,color=(b, g, r), thickness=-1)\n",
    "    cv2.circle(img, rpt2, radius=5,color=(b, g, r), thickness=-1)\n",
    "\n",
    "cv2.imshow('img', img)\n",
    "cv2.waitKey()\n",
    "cv2.destroyAllWindows()"
   ]
  },
  {
   "cell_type": "code",
   "execution_count": 121,
   "id": "67660049",
   "metadata": {},
   "outputs": [
    {
     "data": {
      "text/plain": [
       "((140, 100), (260, 399))"
      ]
     },
     "execution_count": 121,
     "metadata": {},
     "output_type": "execute_result"
    }
   ],
   "source": [
    "rpt1, rpt2"
   ]
  },
  {
   "cell_type": "markdown",
   "id": "234044fb",
   "metadata": {},
   "source": [
    "* 원 그리기"
   ]
  },
  {
   "cell_type": "code",
   "execution_count": 321,
   "id": "6456018f",
   "metadata": {},
   "outputs": [],
   "source": [
    "img = np.zeros((512, 512, 3), dtype=np.uint8) + 255\n",
    "\n",
    "\n",
    "cx = img.shape[0] // 2 # 중심점\n",
    "cy = img.shape[1] // 2 #중심점\n",
    "for r in range(200, 0, -100):\n",
    "    cv2.circle(img, (cx, cy), radius=r, color=(255, 0, 0), thickness=5) \n",
    "    #for문 돌아간다고 윈도우가 닫히는게 아니라 for문 끝나고 키를 눌러야 닫혀서 중복으로 입력됨\n",
    "cv2.circle(img, (cx, cy), radius=50, color=(0, 0, 255), thickness=-1) \n",
    "cv2.imshow('img', img)\n",
    "cv2.waitKey()\n",
    "cv2.destroyAllWindows()"
   ]
  },
  {
   "cell_type": "code",
   "execution_count": 142,
   "id": "d83d097a",
   "metadata": {},
   "outputs": [
    {
     "data": {
      "text/plain": [
       "256"
      ]
     },
     "execution_count": 142,
     "metadata": {},
     "output_type": "execute_result"
    }
   ],
   "source": [
    "cx = img.shape[0] // 2 # 중심점\n",
    "cy = img.shape[1] // 2 #중심점"
   ]
  },
  {
   "cell_type": "code",
   "execution_count": 145,
   "id": "f331c01c",
   "metadata": {},
   "outputs": [
    {
     "data": {
      "text/plain": [
       "3"
      ]
     },
     "execution_count": 145,
     "metadata": {},
     "output_type": "execute_result"
    }
   ],
   "source": [
    "img.shape[2]"
   ]
  },
  {
   "cell_type": "markdown",
   "id": "6b3ea4da",
   "metadata": {},
   "source": [
    "* 타원 그리기 \n",
    "\n",
    "cv2.ellipse(img, center, axes, angle, startAngle, endAngle, color[, thickness[, lineType[, shift]]])"
   ]
  },
  {
   "cell_type": "code",
   "execution_count": 317,
   "id": "2cc6f529",
   "metadata": {},
   "outputs": [],
   "source": [
    "img = np.zeros((512, 512, 3), dtype=np.uint8) + 255\n",
    "\n",
    "cx = img.shape[0] // 2 # 중심점\n",
    "cy = img.shape[1] // 2 #중심점\n",
    "\n",
    "size = 200, 100\n",
    "cv2.ellipse(img, (cx, cy), size, 0, 0, 360, color=(0, 0, 255)) #타원은 짧은 쪽 긴쪽의 반지름 둘다 알려줘야한다.\n",
    "cv2.ellipse(img, (cx, cy), size, 45, 0, 360, color=(255, 0, 0)) #반복문으로 값을 계속 변경해도 괜찮다.\n",
    "cv2.ellipse(img, (cx, cy), size, 90, 0, 360, color=(0, 255, 0))\n",
    "#cv2.ellipse(img, (cx, cy), size, 0, 90, 360, color=(0, 0, 255))\n",
    "#cv2.ellipse(img, (cx, cy), size, 0, 0, 270, color=(0, 0, 255))\n",
    "\n",
    "cv2.imshow('img', img)\n",
    "cv2.waitKey()\n",
    "cv2.destroyAllWindows()"
   ]
  },
  {
   "cell_type": "markdown",
   "id": "304a2eac",
   "metadata": {},
   "source": [
    "* 박스에 맞는 타원 그리기"
   ]
  },
  {
   "cell_type": "code",
   "execution_count": 316,
   "id": "94819233",
   "metadata": {},
   "outputs": [],
   "source": [
    "img = np.zeros((512, 512, 3), dtype=np.uint8) + 255\n",
    "\n",
    "cx = img.shape[0] // 2 # 중심점\n",
    "cy = img.shape[1] // 2 #중심점\n",
    "\n",
    "size = 200, 100\n",
    "# cv2.ellipse(img, (cx, cy), size, 0, 0, 360, color=(0, 0, 255)) #타원은 짧은 쪽 긴쪽의 반지름 둘다 알려줘야한다.\n",
    "# cv2.ellipse(img, (cx, cy), size, 45, 0, 360, color=(255, 0, 0)) #반복문으로 값을 계속 변경해도 괜찮다.\n",
    "# cv2.ellipse(img, (cx, cy), size, 90, 0, 360, color=(0, 255, 0))\n",
    "\n",
    "box = ((cx, cy), size, 0)\n",
    "\n",
    "cv2.ellipse(img, box, (255, 0, 0), 5)\n",
    "\n",
    "box = ((cx, cy), size, 0)\n",
    "cv2.ellipse(img, box, (0, 0, 255), 5)\n",
    "\n",
    "cv2.imshow('img', img)\n",
    "cv2.waitKey()\n",
    "cv2.destroyAllWindows()"
   ]
  },
  {
   "cell_type": "markdown",
   "id": "1774bbbf",
   "metadata": {},
   "source": [
    "* 다각형 그리기"
   ]
  },
  {
   "cell_type": "code",
   "execution_count": 315,
   "id": "c7d80712",
   "metadata": {},
   "outputs": [],
   "source": [
    "img = np.zeros((512, 512, 3), dtype=np.uint8) + 255\n",
    "\n",
    "pts1 = np.array([[100, 100], [200, 100], [200, 200], [100, 200]]) #점 순서대로 그려짐\n",
    "pts2 = np.array([[300, 200], [400, 100], [400, 200]])\n",
    "\n",
    "cv2.polylines(img, [pts1, pts2], isClosed=True, color=(255, 0, 0))  # 박스는 여러개가 될 수도 있음\n",
    "#isClosed 는 점을 모두 이을 것이냐 아니면 순서대로 4점이면 3번만 이을 것이냐임\n",
    "\n",
    "cv2.imshow('img', img)\n",
    "cv2.waitKey()\n",
    "cv2.destroyAllWindows()"
   ]
  },
  {
   "cell_type": "code",
   "execution_count": 314,
   "id": "526f88df",
   "metadata": {},
   "outputs": [],
   "source": [
    "img = np.zeros((512, 512, 3), dtype=np.uint8) + 255\n",
    "\n",
    "cx = img.shape[0] // 2\n",
    "cy = img.shape[1] // 2\n",
    "\n",
    "size = 200, 100\n",
    "\n",
    "cv2.ellipse(img, (cx, cy), size, 0, 0, 360, (0, 0, 255))\n",
    "pts1 = cv2.ellipse2Poly((cx, cy), size, 0, 0, 360, delta=50) #타원에 대해서 점의 좌표를 구하는 것..\n",
    "\n",
    "cv2.ellipse(img, (cx, cy), size, 45, 0, 360, (0, 0, 255))\n",
    "pts2 = cv2.ellipse2Poly((cx, cy), size, 45, 0, 360, delta=50)\n",
    "\n",
    "cv2.polylines(img, [pts1, pts2], isClosed=True, color=(255, 0, 0))\n",
    "\n",
    "cv2.imshow('img', img)\n",
    "cv2.waitKey()\n",
    "cv2.destroyAllWindows()"
   ]
  },
  {
   "cell_type": "code",
   "execution_count": 312,
   "id": "0f256f48",
   "metadata": {},
   "outputs": [],
   "source": [
    "img = np.zeros((512, 512, 3), dtype=np.uint8) + 255\n",
    "\n",
    "cx = img.shape[0] // 2\n",
    "cy = img.shape[1] // 2\n",
    "\n",
    "size = 200, 200\n",
    "\n",
    "for angle in range(0, 90, 10): #for문으로 인해 사각형이 돌아가는 것처럼 보인다.\n",
    "    box = ((cx, cy), size, angle)\n",
    "    pts = cv2.boxPoints(box).astype(np.int32) #float으로 저장되서 타입형을 바꿈.\n",
    "    \n",
    "    b = np.random.randint(256)\n",
    "    g = np.random.randint(256)\n",
    "    r = np.random.randint(256)\n",
    "    \n",
    "    cv2.polylines(img, [pts], isClosed=True, color=(b, g, r))\n",
    "\n",
    "cv2.imshow('img', img)\n",
    "cv2.waitKey()\n",
    "cv2.destroyAllWindows()"
   ]
  },
  {
   "cell_type": "code",
   "execution_count": 218,
   "id": "1928a6fa",
   "metadata": {
    "scrolled": true
   },
   "outputs": [
    {
     "data": {
      "text/plain": [
       "array([[156, 356],\n",
       "       [156, 156],\n",
       "       [356, 156],\n",
       "       [356, 356]])"
      ]
     },
     "execution_count": 218,
     "metadata": {},
     "output_type": "execute_result"
    }
   ],
   "source": [
    "pts #중심점을 중심으로하는 size크기의 박스가 만들어졌다."
   ]
  },
  {
   "cell_type": "code",
   "execution_count": 347,
   "id": "2d1c8c0f",
   "metadata": {},
   "outputs": [],
   "source": [
    "img = np.zeros((512, 512, 3), dtype=np.uint8) + 255\n",
    "\n",
    "pts1 = np.array([[800, 450], [800, 550], [700, 550], [700, 450]])\n",
    "pts2 = np.array([[300, 200], [400, 100], [400, 200]])\n",
    "\n",
    "#cv2.fillConvexPoly(img, pts1, color=(255, 0, 0)) #안이 채워지는 poly 채워야하기에 isclosed를 안건드려도 된다.\n",
    "\n",
    "cv2.fillPoly(img, [pts1, pts2], color=[0, 0, 255])# 두개 넣어도 가능\n",
    "\n",
    "cv2.imshow('img', img)\n",
    "cv2.waitKey()\n",
    "cv2.destroyAllWindows()"
   ]
  },
  {
   "cell_type": "code",
   "execution_count": 390,
   "id": "89b77d17",
   "metadata": {},
   "outputs": [],
   "source": [
    "img = np.zeros((600, 600, 3), dtype=np.uint8) + 255\n",
    "\n",
    "cx1 = 350\n",
    "cy1 = 200\n",
    "cx2 = 150\n",
    "cy2 = 470\n",
    "pts1 = np.array([[100, 300], [100, 350], [200, 350], [200, 300]])\n",
    "pts2 = np.array([[300, 400], [350, 400], [350, 450], [400, 450], [400, 500], [300, 500]])\n",
    "pt1 = np.array([100, 100])\n",
    "pt2 = np.array([200, 150])\n",
    "\n",
    "size= 100, 50\n",
    "\n",
    "cv2.rectangle(img, pt1, pt2, (0, 0, 255), 2)\n",
    "cv2.fillPoly(img, [pts1], color=(0, 0, 100)) #안이 채워지는 poly 채워야하기에 isclosed를 안건드려도 된다.\n",
    "cv2.circle(img, (cx1, cy1), radius=80, color=(255, 0, 0), thickness=6)\n",
    "cv2.circle(img, (cx1, cy1), radius=40, color=(255, 200, 0), thickness=-1)\n",
    "cv2.ellipse(img, (cx2, cy2), size, 30, 0, 360, (0, 255, 0), thickness=4)\n",
    "cv2.ellipse(img, (cx2, cy2), (50, 25), 30, 0, 270, (255, 200, 0), thickness=-1)\n",
    "cv2.polylines(img, [pts2], isClosed=True, color=(200, 0, 200))\n",
    "\n",
    "cv2.imshow('img', img)\n",
    "cv2.waitKey()\n",
    "cv2.destroyAllWindows()"
   ]
  },
  {
   "cell_type": "markdown",
   "id": "adbcf2aa",
   "metadata": {},
   "source": [
    "400, 450    450,450     \n",
    "\n",
    "         450,500        500, 500\n",
    "\n",
    "400, 550         500, 550"
   ]
  },
  {
   "cell_type": "code",
   "execution_count": 391,
   "id": "76cb846c",
   "metadata": {},
   "outputs": [],
   "source": [
    "img = np.zeros((512, 512, 3), dtype=np.uint8) + 255 \n",
    "\n",
    "x1, y1 = 50, 50\n",
    "x2, y2 = 150, 100\n",
    "\n",
    "cv2.rectangle(img, (x1, y1), (x2, y2), (0, 0, 255), 2)\n",
    "cv2.rectangle(img, (x1, y1+100), (x2, y2+100), (0, 0, 255), -1)\n",
    "\n",
    "cx, cy = 300, 130\n",
    "r = 60\n",
    "cv2.circle(img, (cx, cy), r, (255, 0, 0), 3)\n",
    "cv2.circle(img, (cx, cy), r-30, (200, 200, 0), -1)\n",
    "\n",
    "cx2, cy2 = 110,300\n",
    "size = 90, 50\n",
    "size2 = 50, 30\n",
    "cv2.ellipse(img, (cx2, cy2), size, 20, 0, 360, (0, 255, 0), 2)\n",
    "cv2.ellipse(img, (cx2, cy2), size2, 20, 0, 270, (200, 200, 0), -1)\n",
    "\n",
    "x3, y3 = 250, 250\n",
    "pts1 = np.array([[x3, y3], [x3, y3+110], [x3+110, y3+110], [x3+110, y3+55], [x3+55, y3+55], [x3+55, y3]])\n",
    "cv2.polylines(img, [pts1], isClosed=True, color=(150, 0, 150))\n",
    "\n",
    "cv2.imshow('img', img)\n",
    "cv2.waitKey()\n",
    "cv2.destroyAllWindows()"
   ]
  },
  {
   "cell_type": "markdown",
   "id": "e643813b",
   "metadata": {},
   "source": [
    "* 문자열 출력"
   ]
  },
  {
   "cell_type": "code",
   "execution_count": 422,
   "id": "7ad35d23",
   "metadata": {},
   "outputs": [],
   "source": [
    "img = np.zeros((512, 512, 3), dtype=np.uint8) + 255 \n",
    "\n",
    "text = 'OpenCV Programming'\n",
    "org = (50, 100)\n",
    "\n",
    "font = cv2.FONT_HERSHEY_SIMPLEX\n",
    "cv2.putText(img, text, org, font, 1, (255, 0, 0), 2) #스케일은 글자 크기 마지막 2는 굵기 스케일을 키워도 시작점은 같아서 아래의 코드를 실행 가능\n",
    "\n",
    "size, baseline = cv2.getTextSize(text, font, 1, 2)\n",
    "\n",
    "cv2.rectangle(img, org, (org[0] + size[0], org[1] - size[1]), (0, 0, 255)) #org는 좌하단 튜플은 우 상단\n",
    "cv2.circle(img, org, 3, (0, 255, 0), 2) #org의 위치다.\n",
    "\n",
    "cv2.imshow('img', img)\n",
    "cv2.waitKey()\n",
    "cv2.destroyAllWindows()"
   ]
  },
  {
   "cell_type": "code",
   "execution_count": 408,
   "id": "23fa0b55",
   "metadata": {},
   "outputs": [
    {
     "data": {
      "text/plain": [
       "(345, 22)"
      ]
     },
     "execution_count": 408,
     "metadata": {},
     "output_type": "execute_result"
    }
   ],
   "source": [
    "size"
   ]
  },
  {
   "cell_type": "code",
   "execution_count": 412,
   "id": "b3ca57ba",
   "metadata": {},
   "outputs": [
    {
     "data": {
      "text/plain": [
       "10"
      ]
     },
     "execution_count": 412,
     "metadata": {},
     "output_type": "execute_result"
    }
   ],
   "source": [
    "baseline # 100이라는 높이에서 10의 높이에 위치함"
   ]
  },
  {
   "cell_type": "code",
   "execution_count": 413,
   "id": "e90a0126",
   "metadata": {},
   "outputs": [
    {
     "data": {
      "text/plain": [
       "395"
      ]
     },
     "execution_count": 413,
     "metadata": {},
     "output_type": "execute_result"
    }
   ],
   "source": [
    "org[0] + size[0] # 우측 상단 x"
   ]
  },
  {
   "cell_type": "code",
   "execution_count": 415,
   "id": "991d9451",
   "metadata": {},
   "outputs": [
    {
     "data": {
      "text/plain": [
       "78"
      ]
     },
     "execution_count": 415,
     "metadata": {},
     "output_type": "execute_result"
    }
   ],
   "source": [
    "org[1] - size[1] # 우측 상단 y"
   ]
  },
  {
   "cell_type": "markdown",
   "id": "c5e84a11",
   "metadata": {},
   "source": [
    "* 실습 : 카운트다운 영상 만들기"
   ]
  },
  {
   "cell_type": "code",
   "execution_count": 75,
   "id": "1bcc3749",
   "metadata": {},
   "outputs": [],
   "source": [
    "import cv2\n",
    "import numpy as np"
   ]
  },
  {
   "cell_type": "code",
   "execution_count": 88,
   "id": "364d3bb6",
   "metadata": {},
   "outputs": [
    {
     "name": "stdout",
     "output_type": "stream",
     "text": [
      "(374, 666)\n"
     ]
    }
   ],
   "source": [
    "cap = cv2.VideoCapture('man_output.mp4')\n",
    "frame_size = (int(cap.get(cv2.CAP_PROP_FRAME_WIDTH)), int(cap.get(cv2.CAP_PROP_FRAME_HEIGHT)))\n",
    "print(frame_size)\n",
    "fourcc = cv2.VideoWriter_fourcc(*'XVID') #XVID 코덱으로 저장하기위해 코덱정보를 만듦\n",
    "fps = 1 #초당 25ms가 되면 꽤 볼만함 낮아지면 끊기고 높아지면 숭숭 넘어간다.\n",
    "\n",
    "out = cv2.VideoWriter('output/mann.mp4', fourcc, fps, frame_size) #이름, 코덱정보, 프레임으로 만드는 객체를 만듦\n",
    "\n",
    "cx = frame_size[0]\n",
    "cy = frame_size[1]\n",
    "font = cv2.FONT_HERSHEY_SIMPLEX\n",
    "org = cx // 2 - 15, cy // 2 - 15\n",
    "for i in range(9, -1, -1):\n",
    "    text = f'{i}'\n",
    "    retval, frame = cap.read() #프레임 캡쳐\n",
    "    if not retval:\n",
    "        break\n",
    "    cv2.putText(frame, text, org, font, 3, (255, 255, 255), 2)\n",
    "    size, baseline = cv2.getTextSize(text, font, 3, 2)\n",
    "    cv2.rectangle(frame, (org[0] -5, org[1] + 5), (org[0] + size[0] + 5, org[1] - size[1] - 5), (150, 150, 150), 2)\n",
    "    cv2.circle(frame, (cx // 2 + 17, cy // 2 - 47), 100, (100, 100, 100), 2)\n",
    "    cv2.imshow('img', frame)\n",
    "    out.write(frame)\n",
    "    key = cv2.waitKey(1000) #ms단위로 멈추는 것이다. 1ms면 엄청 빠르다.\n",
    "    if key == 27: #ESC\n",
    "        break\n",
    "if cap.isOpened(): #혹시나 처음부터 오류가 났을때 release를 못하니까.\n",
    "    cap.release()\n",
    "    \n",
    "cv2.destroyAllWindows()"
   ]
  },
  {
   "cell_type": "code",
   "execution_count": 58,
   "id": "71b1e91d",
   "metadata": {
    "scrolled": true
   },
   "outputs": [
    {
     "data": {
      "text/plain": [
       "<function destroyAllWindows>"
      ]
     },
     "execution_count": 58,
     "metadata": {},
     "output_type": "execute_result"
    }
   ],
   "source": [
    "cap.release()\n",
    "cv2.destroyAllWindows"
   ]
  },
  {
   "cell_type": "code",
   "execution_count": 86,
   "id": "bf09175b",
   "metadata": {},
   "outputs": [],
   "source": [
    "#재효님 코드.\n",
    "size2 = 300\n",
    "fourcc = cv2.VideoWriter_fourcc(*'XVID') \n",
    "fps = 1\n",
    "out = cv2.VideoWriter('./output/countdown.mp4', fourcc, fps, (512, 512))\n",
    "\n",
    "for i in range(5, -1, -1):\n",
    "    img = np.zeros((512, 512, 3), dtype=np.uint8) + 255 \n",
    "    cx, cy = img.shape[0] // 2, img.shape[1] // 2\n",
    "    text = str(i)\n",
    "    font = cv2.FONT_HERSHEY_SIMPLEX\n",
    "    size, baseline = cv2.getTextSize(text, font, 8, 2)\n",
    "    \n",
    "    org = cx-(size[0]//2), cy+(size[1]//2)\n",
    "    cv2.putText(img, text, org, font, 8, (0, 0, 0), 2)\n",
    "\n",
    "    cv2.circle(img, (cx, cy), size2, (0, 255, 255), 2)\n",
    "    size2 -= 40\n",
    "    cv2.imshow('img', img)\n",
    "    out.write(img)\n",
    "    cv2.waitKey(1000)\n",
    "    \n",
    "cv2.waitKey(1000)\n",
    "out.release()\n",
    "cv2.destroyAllWindows()\n"
   ]
  },
  {
   "cell_type": "code",
   "execution_count": null,
   "id": "654e481b",
   "metadata": {},
   "outputs": [],
   "source": []
  }
 ],
 "metadata": {
  "kernelspec": {
   "display_name": "Python 3",
   "language": "python",
   "name": "python3"
  },
  "language_info": {
   "codemirror_mode": {
    "name": "ipython",
    "version": 3
   },
   "file_extension": ".py",
   "mimetype": "text/x-python",
   "name": "python",
   "nbconvert_exporter": "python",
   "pygments_lexer": "ipython3",
   "version": "3.8.8"
  }
 },
 "nbformat": 4,
 "nbformat_minor": 5
}
