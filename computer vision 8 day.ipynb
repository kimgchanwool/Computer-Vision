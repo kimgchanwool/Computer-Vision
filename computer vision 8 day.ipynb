{
 "cells": [
  {
   "cell_type": "markdown",
   "id": "fe2e255f",
   "metadata": {},
   "source": [
    "* 레이블링"
   ]
  },
  {
   "cell_type": "code",
   "execution_count": 49,
   "id": "a3d02bf0",
   "metadata": {},
   "outputs": [],
   "source": [
    "import cv2\n",
    "import numpy as np\n",
    "import matplotlib.pyplot as plt"
   ]
  },
  {
   "cell_type": "code",
   "execution_count": null,
   "id": "07ec2325",
   "metadata": {},
   "outputs": [],
   "source": [
    "src = cv2.imread('./data/circles.jpg')\n",
    "gray = cv2.cvtColor(src, cv2.COLOR_BGR2GRAY)\n",
    "\n",
    "ret, bgray = cv2.threshold(gray, 128, 255, cv2.THRESH_BINARY_INV) # binary gray\n",
    "ret, lables = cv2.connectedComponents(bgray)\n",
    "\n",
    "#ret # 레이블의 군집 수 (배경도 포함해서 제대로 된 데이터를 넣었다면 최소가 1이다.)\n",
    "\n",
    "#np.unique(lables) # 레이블의 값 정보를 보니 0 1 2 3으로만 이루어져 있음\n",
    "\n",
    "dst = np.zeros(src.shape, dtype=src.dtype)\n",
    "\n",
    "for i in range(0, ret):\n",
    "    r = np.random.randint(256)\n",
    "    g = np.random.randint(256)\n",
    "    b = np.random.randint(256)\n",
    "    dst[lables == i] = [b, g, r] # 같은 레이블에 대해 같은 색상으로 변한다.\n",
    "\n",
    "cv2.imshow('src', src)\n",
    "cv2.imshow('dst', dst)\n",
    "cv2.waitKey()\n",
    "cv2.destroyAllWindows()"
   ]
  },
  {
   "cell_type": "code",
   "execution_count": null,
   "id": "b35f1ec7",
   "metadata": {},
   "outputs": [],
   "source": [
    "src = cv2.imread('./data/circles.jpg')\n",
    "gray = cv2.cvtColor(src, cv2.COLOR_BGR2GRAY)\n",
    "\n",
    "ret, bgray = cv2.threshold(gray, 128, 255, cv2.THRESH_BINARY_INV) # binary gray\n",
    "ret, lables, stats, centroids = cv2.connectedComponentsWithStats(bgray, ) #centroids는 무게중심으로 중심점이다.\n",
    "\n",
    "#stats # x, y, width, height, count\n",
    "\n",
    "#centroids # 무게중심의 좌표\n",
    "\n",
    "dst = np.zeros(src.shape, dtype=src.dtype)\n",
    "\n",
    "for i in range(1, ret):\n",
    "    r = np.random.randint(256)\n",
    "    g = np.random.randint(256)\n",
    "    b = np.random.randint(256)\n",
    "    dst[lables == i] = [b, g, r] # 같은 레이블에 대해 같은 색상으로 변한다.\n",
    "    \n",
    "for i in range(1, ret):\n",
    "    x, y, width, height, area  = stats[i]   \n",
    "    cv2.rectangle(dst , (x, y), (x + width, y + width), (0, 0, 255), 2)\n",
    "    \n",
    "    cx, cy = centroids[i]\n",
    "    cv2.circle(dst, (int(cx), int(cy)), 3, (255, 0, 0), -1)\n",
    "    \n",
    "cv2.imshow('src', src)\n",
    "cv2.imshow('dst', dst)\n",
    "cv2.waitKey()\n",
    "cv2.destroyAllWindows()"
   ]
  },
  {
   "cell_type": "code",
   "execution_count": 108,
   "id": "07d73da2",
   "metadata": {},
   "outputs": [],
   "source": [
    "src = cv2.imread('./data/keyboard.bmp')\n",
    "gray = cv2.cvtColor(src, cv2.COLOR_BGR2GRAY)\n",
    "\n",
    "ret, gray = cv2.threshold(gray, 130, 255, cv2.THRESH_BINARY) # binary gray\n",
    "#ret, gray = cv2.threshold(gray, 0, 255, cv2.THRESH_BINARY + cv2.THRESH_OTSU)\n",
    "ret, lables, stats, centroids = cv2.connectedComponentsWithStats(gray) #centroids는 무게중심으로 중심점이다.\n",
    "\n",
    "#dst = np.zeros(src.shape, dtype=gray.dtype)\n",
    "dst = src.copy()\n",
    "for i in range(1, ret):\n",
    "#    r = np.random.randint(256)\n",
    "#    g = np.random.randint(256)\n",
    "#    b = np.random.randint(256)\n",
    "#    dst[lables == i] = gray[lables == i]\n",
    "    \n",
    "    x, y, width, height, area = stats[i]\n",
    "    cv2.rectangle(dst, (x, y), (x + width, y + height), (0, 0, 255), 1)\n",
    "    \n",
    "    cx, cy = centroids[i]\n",
    "    cv2.circle(dst, (int(cx), int(cy)), 3, (255, 0, 0), -1)\n",
    "\n",
    "cv2.imshow('src', src)\n",
    "cv2.imshow('dst', dst)\n",
    "cv2.waitKey()\n",
    "cv2.destroyAllWindows()"
   ]
  },
  {
   "cell_type": "markdown",
   "id": "352af91a",
   "metadata": {},
   "source": [
    "* 외곽선 검출"
   ]
  },
  {
   "cell_type": "code",
   "execution_count": 141,
   "id": "79f0a6bc",
   "metadata": {},
   "outputs": [],
   "source": [
    "src = np.zeros(shape=(512,512,3), dtype=np.uint8)\n",
    "cv2.rectangle(src, (50, 100), (450, 400), (255, 255, 255), -1)\n",
    "cv2.rectangle(src, (100, 150), (400, 350), (0, 0, 0), -1)\n",
    "cv2.rectangle(src, (200, 200), (300, 300), (255, 255, 255), -1)\n",
    "\n",
    "mode = cv2.RETR_LIST\n",
    "method = cv2.CHAIN_APPROX_SIMPLE\n",
    "\n",
    "gray = cv2.cvtColor(src, cv2.COLOR_BGR2GRAY)\n",
    "\n",
    "ret, gray = cv2.threshold(gray, 180, 255, cv2.THRESH_BINARY)\n",
    "\n",
    "contours, hierarchy = cv2.findContours(gray, mode, method) #계층별 외곽선 찾기\n",
    "\n",
    "# contours[].shape # 4, 1, 2,  8, 1, 2,  4, 1, 2\n",
    "\n",
    "for contour in contours:\n",
    "    cv2.drawContours(src, [contour], 0, (255, 0, 0), 3)"
   ]
  },
  {
   "cell_type": "code",
   "execution_count": 121,
   "id": "25a7aa5a",
   "metadata": {},
   "outputs": [
    {
     "data": {
      "text/plain": [
       "array([[[ 1, -1, -1, -1],\n",
       "        [ 2,  0, -1, -1],\n",
       "        [-1,  1, -1, -1]]], dtype=int32)"
      ]
     },
     "execution_count": 121,
     "metadata": {},
     "output_type": "execute_result"
    }
   ],
   "source": [
    "hierarchy"
   ]
  },
  {
   "cell_type": "code",
   "execution_count": 142,
   "id": "dc4012f9",
   "metadata": {},
   "outputs": [],
   "source": [
    "cv2.imshow('src', src)\n",
    "cv2.waitKey()\n",
    "cv2.destroyAllWindows()"
   ]
  },
  {
   "cell_type": "markdown",
   "id": "4b585e66",
   "metadata": {},
   "source": [
    "* 탬플릿 매칭"
   ]
  },
  {
   "cell_type": "code",
   "execution_count": 159,
   "id": "d9b7ccca",
   "metadata": {},
   "outputs": [],
   "source": [
    "src = cv2.imread('./data/alphabet.bmp', cv2.IMREAD_GRAYSCALE)\n",
    "\n",
    "dst = cv2.cvtColor(src, cv2.COLOR_GRAY2BGR)\n",
    "\n",
    "#templete = cv2.imread('./data/A.bmp', cv2.IMREAD_GRAYSCALE)\n",
    "#templete = cv2.imread('./data/S.bmp', cv2.IMREAD_GRAYSCALE)\n",
    "templete = cv2.imread('./data/A.bmp', cv2.IMREAD_GRAYSCALE)\n",
    "#r = cv2.matchTemplate(src, templete, cv2.TM_CCOEFF_NORMED) # min이 아닌 max\n",
    "r = cv2.matchTemplate(src, templete, cv2.TM_SQDIFF_NORMED) #max가 아닌 min\n",
    "\n",
    "minval, maxval, minLoc, maxLoc = cv2.minMaxLoc(r)\n",
    "\n",
    "w, h = templete.shape\n",
    "cv2.rectangle(dst, minLoc, (minLoc[0] + h, minLoc[1] + w), (0, 0, 255), 2)\n",
    "#cv2.rectangle(dst, maxLoc, (maxLoc[0] + h, maxLoc[1] + w), (0, 0, 255), 2)\n",
    "\n",
    "cv2.imshow('src', src)\n",
    "cv2.imshow('dst', dst)\n",
    "cv2.waitKey()\n",
    "cv2.destroyAllWindows()"
   ]
  },
  {
   "cell_type": "code",
   "execution_count": 81,
   "id": "04cba5b4",
   "metadata": {},
   "outputs": [],
   "source": [
    "src = cv2.imread('./data/circuit.bmp', cv2.IMREAD_GRAYSCALE)\n",
    "\n",
    "dst = cv2.cvtColor(src, cv2.COLOR_GRAY2BGR)\n",
    "\n",
    "templete = cv2.imread('./data/crystal.bmp', cv2.IMREAD_GRAYSCALE)\n",
    "\n",
    "#r = cv2.matchTemplate(src, templete, cv2.TM_CCOEFF_NORMED)\n",
    "r = cv2.matchTemplate(src, templete, cv2.TM_SQDIFF_NORMED)\n",
    "\n",
    "minval, maxval, minLoc, maxLoc = cv2.minMaxLoc(r)\n",
    "\n",
    "w, h = templete.shape\n",
    "#cv2.rectangle(dst, maxLoc, (maxLoc[0] + h, maxLoc[1] + w), (0, 0, 255), 2)\n",
    "cv2.rectangle(dst, minLoc, (minLoc[0] + h, minLoc[1] + w), (0, 0, 255), 2)\n",
    "\n",
    "cv2.imshow('src', src)\n",
    "cv2.imshow('templete', templete)\n",
    "cv2.imshow('dst', dst)\n",
    "cv2.waitKey()\n",
    "cv2.destroyAllWindows()"
   ]
  },
  {
   "cell_type": "markdown",
   "id": "024d950b",
   "metadata": {},
   "source": [
    "* 캐스케이드 분류기와 얼굴검출"
   ]
  },
  {
   "cell_type": "code",
   "execution_count": 82,
   "id": "97d79727",
   "metadata": {},
   "outputs": [],
   "source": [
    "image = cv2.imread('./data/lena.jpg')\n",
    "\n",
    "face_cascade = cv2.CascadeClassifier('./opencv_face/haarcascade_frontalface_default.xml')\n",
    "eye_cascade = cv2.CascadeClassifier('./opencv_face/haarcascade_eye.xml')\n",
    "faces = face_cascade.detectMultiScale(image, 3) #default  : scale(검색 윈도우 확대 비율) = 1.1,  minNeighbors, 최소 검출 횟수  3\n",
    "gray = cv2.cvtColor(image, cv2.COLOR_BGR2GRAY)\n",
    "for (x, y, w ,h) in faces:\n",
    "    cv2.rectangle(image, (x, y), (x+w, x+h), (0, 0, 255), 2)\n",
    "    grayROIs = gray[y:y+h, x:x+w]\n",
    "    faceROIs = image[y:y+h, x:x+w] #눈이 얼굴에 있는게 당연하니까 얼굴부분만 따오고 거기서 검출하면 검출하는 횟수가 줄어든다.\n",
    "    eyes = eye_cascade.detectMultiScale(grayROIs, 1.1, 1)\n",
    "    \n",
    "    for (ex, ey, ew, eh) in eyes:\n",
    "        cv2.rectangle(faceROIs, (ex, ey), (ex+ew, ey+eh), (255, 0, 0), 2)\n",
    "    \n",
    "cv2.imshow('image', image)\n",
    "cv2.waitKey()\n",
    "cv2.destroyAllWindows()"
   ]
  },
  {
   "cell_type": "markdown",
   "id": "84a99793",
   "metadata": {},
   "source": [
    "* HOG 알고리즘과 보행자 검출"
   ]
  },
  {
   "cell_type": "code",
   "execution_count": 36,
   "id": "97ec1692",
   "metadata": {},
   "outputs": [],
   "source": [
    "src = cv2.imread('./data/people1.png')"
   ]
  },
  {
   "cell_type": "code",
   "execution_count": 37,
   "id": "e423fe8a",
   "metadata": {},
   "outputs": [],
   "source": [
    "hog = cv2.HOGDescriptor() #호그 알고리즘을 통한 보행자 검출 함수"
   ]
  },
  {
   "cell_type": "code",
   "execution_count": 38,
   "id": "cf84c732",
   "metadata": {},
   "outputs": [],
   "source": [
    "dst = hog.compute(src) #계산하기"
   ]
  },
  {
   "cell_type": "code",
   "execution_count": 41,
   "id": "8a908935",
   "metadata": {
    "scrolled": true
   },
   "outputs": [
    {
     "data": {
      "text/plain": [
       "(3780, 1)"
      ]
     },
     "execution_count": 41,
     "metadata": {},
     "output_type": "execute_result"
    }
   ],
   "source": [
    "dst.shape #셀당 9개의 구간으로 분활되었다."
   ]
  },
  {
   "cell_type": "code",
   "execution_count": 50,
   "id": "68c07dee",
   "metadata": {},
   "outputs": [
    {
     "data": {
      "text/plain": [
       "[<matplotlib.lines.Line2D at 0x1d0a4cb9340>]"
      ]
     },
     "execution_count": 50,
     "metadata": {},
     "output_type": "execute_result"
    },
    {
     "data": {
      "image/png": "[encoded data removed]",
      "text/plain": [
       "<Figure size 432x288 with 1 Axes>"
      ]
     },
     "metadata": {
      "needs_background": "light"
     },
     "output_type": "display_data"
    }
   ],
   "source": [
    "plt.plot(dst[::36], color='b', linewidth='2') # 36구간에 대해서"
   ]
  },
  {
   "cell_type": "code",
   "execution_count": 42,
   "id": "b9d480e6",
   "metadata": {},
   "outputs": [],
   "source": [
    "cv2.imshow('src', src)\n",
    "cv2.waitKey()\n",
    "cv2.destroyAllWindows()"
   ]
  },
  {
   "cell_type": "code",
   "execution_count": 60,
   "id": "fc50eb58",
   "metadata": {},
   "outputs": [],
   "source": [
    "src = cv2.imread('./data/people.png')\n",
    "hog = cv2.HOGDescriptor() #호그 알고리즘을 통한 보행자 검출 함수\n",
    "people_detect = cv2.HOGDescriptor_getDefaultPeopleDetector()\n",
    "hog.setSVMDetector(people_detect)\n",
    "\n",
    "loc1, weight1 = hog.detect(src)\n",
    "\n",
    "dst1 = src.copy()\n",
    "loc2, weight2 = hog.detectMultiScale(src)\n",
    "for rect in loc2:\n",
    "    x, y, w, h = rect\n",
    "    cv2.rectangle(dst1, (x, y), (x+w, y+h), (0, 255, 0), 2)\n",
    "\n",
    "dst2 = src.copy()\n",
    "loc3, weight3 = hog.detectMultiScale(src, winStride=(1, 1), padding=(8, 8)) #매개변수 조정으로 인해 끝부분도 잡아주고 더 많이 잡는데 문제는 사람이 아닌것도 잡았음\n",
    "for rect in loc3:\n",
    "    x, y, w, h = rect\n",
    "    cv2.rectangle(dst2, (x, y), (x+w, y+h), (0, 0, 255), 2)\n",
    "    \n",
    "cv2.imshow('src', src)\n",
    "cv2.imshow('dst1', dst1)\n",
    "cv2.imshow('dst2', dst2)\n",
    "cv2.waitKey()\n",
    "cv2.destroyAllWindows()"
   ]
  },
  {
   "cell_type": "code",
   "execution_count": 69,
   "id": "5fb02684",
   "metadata": {},
   "outputs": [],
   "source": [
    "from skimage.feature import hog\n",
    "import matplotlib.image as mpimg"
   ]
  },
  {
   "cell_type": "code",
   "execution_count": 77,
   "id": "8acd58d1",
   "metadata": {},
   "outputs": [],
   "source": [
    "src = cv2.imread('./data/people1.png')\n",
    "gray = cv2.cvtColor(src, cv2.COLOR_RGB2GRAY)\n",
    "\n",
    "hog_feature, hog_image = hog(gray, orientations=9, pixels_per_cell=(8, 8), # 구간 사이즈, 셀의 사이즈\n",
    "                            cells_per_block=(2, 2), # 블럭의 사이즈 셀이 2 x 2만큼 드감\n",
    "                            block_norm='L2-Hys', transform_sqrt=False, # 음수 문제 안생기게 sqrt = false\n",
    "                            visualize=True, feature_vector=False) # 피쳐 벡터는 형상이다. 3750이 아닌 내부 구조도 나온다.\n",
    "#hog에 대한 일반정인 사용법\n",
    "hog_feature.shape\n",
    "\n",
    "cv2.imshow('src', src)\n",
    "cv2.imshow('hog_image', hog_image)\n",
    "cv2.waitKey()\n",
    "cv2.destroyAllWindows()"
   ]
  },
  {
   "cell_type": "code",
   "execution_count": 74,
   "id": "4369c811",
   "metadata": {},
   "outputs": [
    {
     "data": {
      "text/plain": [
       "(128, 64)"
      ]
     },
     "execution_count": 74,
     "metadata": {},
     "output_type": "execute_result"
    }
   ],
   "source": [
    "hog_image.shape"
   ]
  },
  {
   "cell_type": "code",
   "execution_count": 78,
   "id": "89f3b0c2",
   "metadata": {},
   "outputs": [
    {
     "data": {
      "text/plain": [
       "<matplotlib.image.AxesImage at 0x1d0a4ee24c0>"
      ]
     },
     "execution_count": 78,
     "metadata": {},
     "output_type": "execute_result"
    },
    {
     "data": {
      "image/png": "[encoded data removed]",
      "text/plain": [
       "<Figure size 432x288 with 2 Axes>"
      ]
     },
     "metadata": {
      "needs_background": "light"
     },
     "output_type": "display_data"
    }
   ],
   "source": [
    "fig = plt.figure()\n",
    "plt.subplot(121)\n",
    "plt.imshow(src)\n",
    "plt.subplot(122)\n",
    "plt.imshow(hog_image, cmap='gray') # 에지같이 외각에 대해 형태를 나타낸다."
   ]
  },
  {
   "cell_type": "markdown",
   "id": "c41dda95",
   "metadata": {},
   "source": [
    "# 프로젝트\n",
    "\n",
    "1. blur\n",
    "2. canny detector\n",
    "3. ROI \n",
    "4. hough transform\n",
    "5. draw\n",
    "\n",
    "---------\n",
    "\n",
    "## 버린 프로젝트 - 컴퓨터 비전에 관심 있으면 해보기\n",
    "1. 왜곡(카메라 렌즈굴절) #선이 선이 아닌 곡선이 되는것 -> 카메라 캘리브레이션\n",
    "2. 투시변환(원근감)\n",
    "3. color convert (ycrcv, hsv) #바 만드는 것 괜찮은듯\n",
    "4. sobel mask (x축 크기) # 마치 도로\n",
    "5. 추출된 엣지로 histogram peak\n",
    "6. draw (그리기) \n",
    "\n",
    "어파인 변환 - 카메라 캘리브레이션에는 특히, 그리고 투시변환과 유사\n",
    "행렬(M)로 선형 변환\n",
    "\n",
    "# 행할 프로젝트\n",
    "kitty \n",
    "\n",
    "차량 이미지 100 (car / Not car) 10000 : 8000\n",
    "\n",
    "Vehicles / jpeg, png\n",
    "\n",
    "Not vehicles / jpeg, png \n",
    "\n",
    "\n",
    "데이터를 적재\n",
    "\n",
    "레이블링(정답을 매김)\n",
    "이미지 시각화가 중요\n",
    "\n",
    "\n",
    "특성 추출(Color based(histogram) = color only, Shaped based(hog) = shape only\n",
    "\n",
    ", template match(유사도, 광원값과 모양도 같아야함) = both color and sahpe\n",
    "\n",
    ", Color & Shape 가 둘 다 필요한것은 raw pixel 원본이 들어가야 한다. Color은 컬러가 필요하고 shape는 gray가 필요하다)\n",
    "\n",
    "\n",
    "-----------------------------\n",
    "\n",
    "훈련/검증/테스트 분리\n",
    "\n",
    "모델 훈련 (그리드 탐색)\n",
    "예측 - SVM cv2.ml.SVM_ONE_CLASS\n",
    "날씨데이터 연관성.\n",
    "\n",
    "---------\n",
    "\n",
    "### Detect 슬라이딩 윈도우 방식 =  분류 - 어려워서 안 할 예정\n",
    "\n",
    "모델이 테스트 데이터에 대해 예측\n",
    "테스트 데이터 : 정지 영상"
   ]
  },
  {
   "cell_type": "code",
   "execution_count": null,
   "id": "bf48c1f8",
   "metadata": {},
   "outputs": [],
   "source": []
  },
  {
   "cell_type": "code",
   "execution_count": null,
   "id": "78e59f13",
   "metadata": {},
   "outputs": [],
   "source": [
    "컬럼 5              0 0 0 0 1 1 or 0\n",
    "                    0 0 0 1 1  data[:,:-2] 영상이고, data[:, -1] 은 \n",
    "행이 4              0 0 0 0 1  r 10000: 8000 g 100 , ... b  gray 연관성 x  차량을 파랗게 칠한다. 정답데이터 빨갛게 칠하면 정답이 아닌 데이터"
   ]
  },
  {
   "cell_type": "markdown",
   "id": "2711f678",
   "metadata": {},
   "source": [
    "__.py로 만들고 import 하는 방식으로 = import __\n",
    "\n",
    "주피터로 만들어서 전체를 이어만들기"
   ]
  },
  {
   "cell_type": "markdown",
   "id": "545fd2aa",
   "metadata": {},
   "source": [
    "1. 데이터 라벨링\n",
    "mnist를 활용하여 처리하고 합치기.   concat 1 정답 image = image[:-2],  lable = image[-1]\n",
    "\n",
    "넘파이\n",
    "\n",
    "2. 데이터 축소.\n",
    "* blur에 대해 선명도 처리 day 5~6\n",
    "* np.zeros로 0만든 배열 만들고, 엣지를 딴 원본에서 차량 또는 차량이 아닌 것만 가져옴 이거는 그나마 쉽다 canny 써서?\n",
    "                                          \n",
    "canny\n",
    "\n",
    "해당 데이터에 대한 분석 필요\n",
    "\n",
    "3. 데이터 합치고 섞기 (non car + car)\n",
    "trans_data_split()\n",
    "sklearn\n",
    "\n",
    "4. 학습 및 예측\n",
    "예측 - SVM cv2.ml.SVM_ONE_CLASS 쓰면 된다. 사용법 익히기.\n",
    "\n",
    "sklearn"
   ]
  }
 ],
 "metadata": {
  "kernelspec": {
   "display_name": "Python 3",
   "language": "python",
   "name": "python3"
  },
  "language_info": {
   "codemirror_mode": {
    "name": "ipython",
    "version": 3
   },
   "file_extension": ".py",
   "mimetype": "text/x-python",
   "name": "python",
   "nbconvert_exporter": "python",
   "pygments_lexer": "ipython3",
   "version": "3.8.8"
  }
 },
 "nbformat": 4,
 "nbformat_minor": 5
}
