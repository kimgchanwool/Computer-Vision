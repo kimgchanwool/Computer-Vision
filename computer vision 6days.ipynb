{
 "cells": [
  {
   "cell_type": "markdown",
   "id": "64396d71",
   "metadata": {},
   "source": [
    "# 캐니 에지 검출기"
   ]
  },
  {
   "cell_type": "code",
   "execution_count": 9,
   "id": "f423fb4b",
   "metadata": {},
   "outputs": [],
   "source": [
    "import cv2\n",
    "import numpy as np\n",
    "import matplotlib.pyplot as plt"
   ]
  },
  {
   "cell_type": "markdown",
   "id": "5731c571",
   "metadata": {},
   "source": [
    "* 허프 변환 원 검출"
   ]
  },
  {
   "cell_type": "code",
   "execution_count": 2,
   "id": "f1990352",
   "metadata": {},
   "outputs": [],
   "source": [
    "src = cv2.imread('./data/lena.jpg', cv2.IMREAD_GRAYSCALE)"
   ]
  },
  {
   "cell_type": "code",
   "execution_count": 14,
   "id": "ed1ca139",
   "metadata": {},
   "outputs": [],
   "source": [
    "edges1 = cv2.Canny(src, 50, 100) # 1 : 2 or 1 : 3의 비율을 권장.\n",
    "edges2 = cv2.Canny(src, 50, 150)\n",
    "edges3 = cv2.Canny(src, 50, 200)\n",
    "\n",
    "cv2.imshow('edges1', edges1)\n",
    "cv2.imshow('edges2', edges2)\n",
    "cv2.imshow('edges3', edges3)\n",
    "cv2.waitKey()\n",
    "cv2.destroyAllWindows()"
   ]
  },
  {
   "cell_type": "code",
   "execution_count": 24,
   "id": "78014c82",
   "metadata": {},
   "outputs": [
    {
     "name": "stdout",
     "output_type": "stream",
     "text": [
      "x0, y0 -1.4337335e-05 328.0\n",
      "x1, y1 -1000 327\n",
      "x2, y2 999 328\n",
      "x0, y0 356.0 0.0\n",
      "x1, y1 356 1000\n",
      "x2, y2 356 -1000\n",
      "x0, y0 -5.0268095e-06 115.0\n",
      "x1, y1 -1000 114\n",
      "x2, y2 999 115\n",
      "x0, y0 137.0 0.0\n",
      "x1, y1 137 1000\n",
      "x2, y2 137 -1000\n"
     ]
    }
   ],
   "source": [
    "src = cv2.imread('./data/rect.jpg')\n",
    "gray = cv2.cvtColor(src, cv2.COLOR_BGR2GRAY)\n",
    "\n",
    "edges = cv2.Canny(gray, 50, 100)\n",
    "lines = cv2.HoughLines(edges, rho=1, theta=np.pi/180.0, threshold=100)\n",
    "\n",
    "for line in lines:\n",
    "    rho, theta   = line[0]\n",
    "    c = np.cos(theta)\n",
    "    s = np.sin(theta)\n",
    "    x0 = c*rho\n",
    "    y0  = s*rho\n",
    "    print(\"x0, y0\", x0, y0)\n",
    "    x1 = int(x0 + 1000*(-s))\n",
    "    y1 = int(y0 + 1000*(c))\n",
    "    print(\"x1, y1\", x1, y1)\n",
    "    x2 = int(x0 - 1000*(-s))\n",
    "    y2 = int(y0 - 1000*(c))\n",
    "    print(\"x2, y2\", x2, y2)\n",
    "    cv2.line(src, (x1,y1), (x2,y2), (0,0,255), 2)\n",
    "    \n",
    "cv2.imshow('src', src)\n",
    "cv2.imshow('edges', edges)\n",
    "cv2.waitKey()\n",
    "cv2.destroyAllWindows()"
   ]
  },
  {
   "cell_type": "code",
   "execution_count": 40,
   "id": "749fc52e",
   "metadata": {},
   "outputs": [],
   "source": [
    "src = cv2.imread('./data/building.jpg')\n",
    "gray = cv2.cvtColor(src, cv2.COLOR_BGR2GRAY)\n",
    "\n",
    "edges = cv2.Canny(gray, 50, 100)\n",
    "lines = cv2.HoughLines(edges, rho=1, theta=np.pi/180.0, threshold=160)"
   ]
  },
  {
   "cell_type": "code",
   "execution_count": 41,
   "id": "6540b391",
   "metadata": {},
   "outputs": [
    {
     "data": {
      "text/plain": [
       "(11368, 1, 2)"
      ]
     },
     "execution_count": 41,
     "metadata": {},
     "output_type": "execute_result"
    }
   ],
   "source": [
    "lines.shape"
   ]
  },
  {
   "cell_type": "code",
   "execution_count": 42,
   "id": "d1b34361",
   "metadata": {},
   "outputs": [
    {
     "data": {
      "text/plain": [
       "(600, 868)"
      ]
     },
     "execution_count": 42,
     "metadata": {},
     "output_type": "execute_result"
    }
   ],
   "source": [
    "edges.shape"
   ]
  },
  {
   "cell_type": "code",
   "execution_count": 114,
   "id": "2449ae5a",
   "metadata": {},
   "outputs": [],
   "source": [
    "src = cv2.imread('./data/building.jpg')\n",
    "gray = cv2.cvtColor(src, cv2.COLOR_BGR2GRAY)\n",
    "\n",
    "edges = cv2.Canny(gray, 50, 100)\n",
    "edge = cv2.merge([edges, edges, edges])\n",
    "lines = cv2.HoughLinesP(edges, rho=1, theta=np.pi/180.0, threshold=160, minLineLength=150, maxLineGap = 10)\n",
    "\n",
    "for line in lines:\n",
    "    x1, y1, x2, y2 = line[0]\n",
    "    cv2.line(edge, (x1, y1), (x2, y2), (0, 0, 255), 2)\n",
    "    \n",
    "cv2.imshow('src', src)\n",
    "cv2.imshow('edges', edge)\n",
    "cv2.waitKey()\n",
    "cv2.destroyAllWindows()    "
   ]
  },
  {
   "cell_type": "code",
   "execution_count": 45,
   "id": "77428c70",
   "metadata": {},
   "outputs": [
    {
     "data": {
      "text/plain": [
       "(600, 868, 3)"
      ]
     },
     "execution_count": 45,
     "metadata": {},
     "output_type": "execute_result"
    }
   ],
   "source": [
    "src.shape"
   ]
  },
  {
   "cell_type": "markdown",
   "id": "aee940f9",
   "metadata": {},
   "source": [
    "* 허프 변환 원 검출"
   ]
  },
  {
   "cell_type": "code",
   "execution_count": null,
   "id": "3b838d53",
   "metadata": {},
   "outputs": [],
   "source": [
    "circles.shape\n",
    "\n",
    "circles[0]  #3차원 배열이라 2차원으로 축소"
   ]
  },
  {
   "cell_type": "code",
   "execution_count": 155,
   "id": "383e8986",
   "metadata": {},
   "outputs": [
    {
     "name": "stdout",
     "output_type": "stream",
     "text": [
      "[228.5 220.5  76.1]\n",
      "[369.5 147.5  62.2]\n",
      "[344.5 391.5  53.2]\n"
     ]
    }
   ],
   "source": [
    "src = cv2.imread('./data/circles.jpg')\n",
    "gray = cv2.cvtColor(src, cv2.COLOR_BGR2GRAY)\n",
    "\n",
    "circles = cv2.HoughCircles(gray, method=cv2.HOUGH_GRADIENT, dp=1, minDist=50, param2=15)\n",
    "\n",
    "for circle in circles[0]:\n",
    "    print(circle)\n",
    "    cx, cy, r = circle\n",
    "    cv2.circle(src, (np.uint32(cx), np.uint32(cy)), np.uint32(r), (0, 0, 255), 2)\n",
    "\n",
    "cv2.imshow('src', src)\n",
    "cv2.waitKey()\n",
    "cv2.destroyAllWindows()    "
   ]
  },
  {
   "cell_type": "code",
   "execution_count": 173,
   "id": "1b3b44b0",
   "metadata": {},
   "outputs": [
    {
     "name": "stdout",
     "output_type": "stream",
     "text": [
      "[370.5 147.5  62.2]\n",
      "[345.5 391.5  53. ]\n",
      "[229.5 219.5  75.2]\n",
      "[242.5 385.5  47.2]\n",
      "[429.5 233.5  54.4]\n",
      "[119.5 219.5  49.2]\n"
     ]
    }
   ],
   "source": [
    "src = cv2.imread('./data/circles2.jpg')\n",
    "gray = cv2.cvtColor(src, cv2.COLOR_BGR2GRAY)\n",
    "\n",
    "circles = cv2.HoughCircles(gray, method=cv2.HOUGH_GRADIENT, dp=1, minDist=50, param2=15, minRadius=30, maxRadius=100)\n",
    "\n",
    "for circle in circles[0]:\n",
    "    print(circle)\n",
    "    cx, cy, r = circle\n",
    "    cv2.circle(src, (np.uint32(cx), np.uint32(cy)), np.uint32(r), (0, 0, 255), 2)\n",
    "\n",
    "cv2.imshow('src', src)\n",
    "cv2.waitKey()\n",
    "cv2.destroyAllWindows()    "
   ]
  },
  {
   "cell_type": "code",
   "execution_count": 191,
   "id": "42a0f1b1",
   "metadata": {},
   "outputs": [
    {
     "name": "stdout",
     "output_type": "stream",
     "text": [
      "[216.5  70.5  28.8]\n",
      "[173.5 119.5  29. ]\n",
      "[234.5 172.5  24.3]\n",
      "[120.5 207.5  29.2]\n",
      "[ 36.5 105.5  29.2]\n",
      "[148.5  33.5  28.2]\n",
      "[265.5 101.5  24. ]\n",
      "[56.5 48.5 23.2]\n",
      "[108.5  83.5  24.1]\n",
      "[ 95.5 148.5  28. ]\n"
     ]
    }
   ],
   "source": [
    "src = cv2.imread('./data/coins.png')\n",
    "gray = cv2.cvtColor(src, cv2.COLOR_BGR2GRAY)\n",
    "\n",
    "circles = cv2.HoughCircles(gray, method=cv2.HOUGH_GRADIENT, dp=1, minDist=50, param2=15, minRadius=11, maxRadius=32)\n",
    "\n",
    "for circle in circles[0]:\n",
    "    print(circle)\n",
    "    cx, cy, r = circle\n",
    "    cv2.circle(src, (np.uint32(cx), np.uint32(cy)), np.uint32(r), (0, 0, 255), 2)\n",
    "\n",
    "cv2.imshow('src', src)\n",
    "cv2.waitKey()\n",
    "cv2.destroyAllWindows()    "
   ]
  },
  {
   "cell_type": "code",
   "execution_count": 176,
   "id": "4062797e",
   "metadata": {},
   "outputs": [
    {
     "data": {
      "text/plain": [
       "array([[[163.5, 125.5,  79.6],\n",
       "        [108.5,  85.5,  74.1],\n",
       "        [133.5,  37.5,  99.4],\n",
       "        [204.5, 160.5,  99.4],\n",
       "        [ 79.5, 148.5,  79.6],\n",
       "        [170.5,  72.5,  48.7],\n",
       "        [156.5, 185.5,  68.5],\n",
       "        [ 53.5, 104.5,  46.3],\n",
       "        [210.5, 107.5,  51.6],\n",
       "        [ 62.5,  41.5,  83.9],\n",
       "        [ 58.5, 197.5,  71.8],\n",
       "        [251.5, 137.5,  53. ],\n",
       "        [214.5,  46.5,  79.6],\n",
       "        [  5.5, 140.5,  99.4],\n",
       "        [279.5,  32.5,  81.7],\n",
       "        [215.5, 211.5,  99.4],\n",
       "        [ 12.5,  60.5,  40.2],\n",
       "        [108.5, 199.5,  42.5],\n",
       "        [258.5,  80.5,  35.1],\n",
       "        [176.5,   8.5,  46.3],\n",
       "        [ 79.5, 243.5,  61.2],\n",
       "        [259.5, 187.5,  32.1]]], dtype=float32)"
      ]
     },
     "execution_count": 176,
     "metadata": {},
     "output_type": "execute_result"
    }
   ],
   "source": [
    "circles"
   ]
  }
 ],
 "metadata": {
  "kernelspec": {
   "display_name": "Python 3",
   "language": "python",
   "name": "python3"
  },
  "language_info": {
   "codemirror_mode": {
    "name": "ipython",
    "version": 3
   },
   "file_extension": ".py",
   "mimetype": "text/x-python",
   "name": "python",
   "nbconvert_exporter": "python",
   "pygments_lexer": "ipython3",
   "version": "3.8.8"
  }
 },
 "nbformat": 4,
 "nbformat_minor": 5
}
