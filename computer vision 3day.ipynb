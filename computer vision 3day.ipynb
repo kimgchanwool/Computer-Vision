{
 "cells": [
  {
   "cell_type": "markdown",
   "id": "6e85ce8a",
   "metadata": {},
   "source": [
    "* 키보드 이벤트 처리"
   ]
  },
  {
   "cell_type": "code",
   "execution_count": 1,
   "id": "29be52bd",
   "metadata": {},
   "outputs": [],
   "source": [
    "import cv2\n",
    "import numpy as np"
   ]
  },
  {
   "cell_type": "code",
   "execution_count": 35,
   "id": "dfc2c6ff",
   "metadata": {},
   "outputs": [],
   "source": [
    "width, height = 512, 512\n",
    "x, y = width//2, height//2\n",
    "R = 50 #radius\n",
    "derection = 0 # 0 : right,  1: down, 2:left, 3: up"
   ]
  },
  {
   "cell_type": "code",
   "execution_count": 32,
   "id": "b5ad701a",
   "metadata": {
    "scrolled": true
   },
   "outputs": [
    {
     "data": {
      "text/plain": [
       "412"
      ]
     },
     "execution_count": 32,
     "metadata": {},
     "output_type": "execute_result"
    }
   ],
   "source": [
    "x - R"
   ]
  },
  {
   "cell_type": "code",
   "execution_count": 33,
   "id": "3e061ed6",
   "metadata": {},
   "outputs": [
    {
     "data": {
      "text/plain": [
       "462"
      ]
     },
     "execution_count": 33,
     "metadata": {},
     "output_type": "execute_result"
    }
   ],
   "source": [
    "x"
   ]
  },
  {
   "cell_type": "code",
   "execution_count": 36,
   "id": "1225b33b",
   "metadata": {},
   "outputs": [],
   "source": [
    "while True:\n",
    "    key = cv2.waitKeyEx(30)\n",
    "    if key == 0x1B: # 24의 헥사값 esc인듯\n",
    "        break\n",
    "    # 방향키 처리\n",
    "    elif key == 0x270000: # right 우측 방향키\n",
    "        direction = 0\n",
    "    elif key == 0x280000: # down 하단 방향\n",
    "        direction = 1\n",
    "    elif key == 0x250000: # left 좌측\n",
    "        direction = 2\n",
    "    elif key == 0x260000: # up 상단\n",
    "        direction = 3\n",
    "    #direction으로 x y좌표를 바꿔주면 된다.\n",
    "\n",
    "    # 방향에 맞게 x, y 좌표 설정\n",
    "    if direction == 0:\n",
    "        x += 10\n",
    "    elif direction == 1:\n",
    "        y += 10\n",
    "    elif direction == 2:\n",
    "        x -= 10\n",
    "    else:  #3인경우지만 평소에도 우측으로 가게끔 하려고\n",
    "        y -= 10\n",
    "    \n",
    "    # 경계확인\n",
    "    if x <= R:\n",
    "        x = R\n",
    "        direction = 0\n",
    "    if x > width - R:\n",
    "        x = width - R\n",
    "        direction = 2\n",
    "    if y < R:\n",
    "        y = R\n",
    "        direction = 1\n",
    "    if y > height - R:\n",
    "        y = height - R\n",
    "        direction = 3\n",
    "    \n",
    "    # 지우기, 그리기\n",
    "    img = np.zeros((width, height, 3), np.uint8) + 255\n",
    "    cv2.circle(img, (x, y), R, (0, 0, 255), -1)\n",
    "    cv2.imshow('img', img)\n",
    "\n",
    "cv2.destroyAllWindows()"
   ]
  },
  {
   "cell_type": "markdown",
   "id": "c5411ec6",
   "metadata": {},
   "source": [
    "* 마우스 이벤트 처리"
   ]
  },
  {
   "cell_type": "code",
   "execution_count": 197,
   "id": "d646f603",
   "metadata": {},
   "outputs": [],
   "source": [
    "img = np.zeros((512, 512, 3), np.uint8) + 255\n",
    "\n",
    "def onMouse(event, x, y, flags, param):\n",
    "    if event == cv2.EVENT_LBUTTONDOWN:\n",
    "        if flags & cv2.EVENT_FLAG_SHIFTKEY:\n",
    "            cv2.rectangle(param[0], (x - 5, y - 5), (x + 5, y + 5), (255, 0, 0))\n",
    "        else:\n",
    "            cv2.circle(param[0], (x, y), 5, (255, 0, 0), 3) #param이 여러개를 받아와서 색인으로 해야함\n",
    "    elif event == cv2.EVENT_RBUTTONDOWN:\n",
    "        cv2.circle(param[0],(x, y), 5, (0, 0, 255), 3)\n",
    "    elif event == cv2.EVENT_LBUTTONDBLCLK:\n",
    "        param[0] = np.zeros((512, 512, 3), np.uint8) + 255\n",
    "    cv2.imshow('img', param[0])\n",
    "#######################################\n",
    "\n",
    "cv2.imshow('img', img)\n",
    "\n",
    "\n",
    "cv2.setMouseCallback('img', onMouse, [img]) #[img] 처럼 파라미터 지정 가능\n",
    "cv2.waitKey()\n",
    "cv2.destroyAllWindows()"
   ]
  },
  {
   "cell_type": "code",
   "execution_count": 1,
   "id": "1e3a7685",
   "metadata": {},
   "outputs": [],
   "source": [
    "import cv2\n",
    "import numpy as np"
   ]
  },
  {
   "cell_type": "markdown",
   "id": "dd6a9712",
   "metadata": {},
   "source": [
    "* 트랙바 이벤트 처리"
   ]
  },
  {
   "cell_type": "code",
   "execution_count": 16,
   "id": "cc3bb58c",
   "metadata": {},
   "outputs": [],
   "source": [
    "def onChange(pos):\n",
    "    global img\n",
    "    r = cv2.getTrackbarPos('R', 'img')\n",
    "    g = cv2.getTrackbarPos('G', 'img')\n",
    "    b = cv2.getTrackbarPos('B', 'img')\n",
    "    \n",
    "    img[:] = (b, g, r) #img에 그대로 받으면 이미지의 사이즈가 RGB만큼으로 변해버려서 전체를 바꾸려면 내부 value를 받아야한다.\n",
    "    cv2.imshow('img', img)\n",
    "    \n",
    "img = np.zeros((512, 512, 3), np.uint8) + 255\n",
    "\n",
    "cv2.imshow('img', img)\n",
    "\n",
    "#cv2.createTrackbar('트랙바 이름', 넣을 프레임 이름, min, max, 처리 함수)\n",
    "cv2.createTrackbar('R', 'img', 0, 255, onChange)\n",
    "cv2.createTrackbar('G', 'img', 0, 255, onChange)\n",
    "cv2.createTrackbar('B', 'img', 0, 255, onChange)\n",
    "\n",
    "cv2.setTrackbarPos('B', 'img', 255)\n",
    "\n",
    "cv2.waitKey()\n",
    "cv2.destroyAllWindows()"
   ]
  },
  {
   "cell_type": "code",
   "execution_count": 10,
   "id": "427cae7c",
   "metadata": {},
   "outputs": [
    {
     "data": {
      "text/plain": [
       "(512, 512)"
      ]
     },
     "execution_count": 10,
     "metadata": {},
     "output_type": "execute_result"
    }
   ],
   "source": [
    "img[:,:, 2].shape"
   ]
  },
  {
   "cell_type": "code",
   "execution_count": 11,
   "id": "0277fc5d",
   "metadata": {},
   "outputs": [
    {
     "data": {
      "text/plain": [
       "(512, 512, 3)"
      ]
     },
     "execution_count": 11,
     "metadata": {},
     "output_type": "execute_result"
    }
   ],
   "source": [
    "img[:].shape"
   ]
  },
  {
   "cell_type": "code",
   "execution_count": 13,
   "id": "231a2b12",
   "metadata": {},
   "outputs": [
    {
     "data": {
      "text/plain": [
       "(512, 512, 3)"
      ]
     },
     "execution_count": 13,
     "metadata": {},
     "output_type": "execute_result"
    }
   ],
   "source": [
    "img.shape"
   ]
  },
  {
   "cell_type": "code",
   "execution_count": 17,
   "id": "6f323806",
   "metadata": {},
   "outputs": [],
   "source": [
    "a1 = np.array([1, 2, 3])\n",
    "a2 = np.array([[1, 2, 3],\n",
    "               [4, 5, 6]])"
   ]
  },
  {
   "cell_type": "code",
   "execution_count": 18,
   "id": "bb6ede22",
   "metadata": {},
   "outputs": [
    {
     "data": {
      "text/plain": [
       "array([2, 3])"
      ]
     },
     "execution_count": 18,
     "metadata": {},
     "output_type": "execute_result"
    }
   ],
   "source": [
    "a1[1:] # 2, 3 \n",
    "a1[:2] # 1, 2"
   ]
  },
  {
   "cell_type": "code",
   "execution_count": 23,
   "id": "8258ee7e",
   "metadata": {},
   "outputs": [
    {
     "data": {
      "text/plain": [
       "array([5, 6])"
      ]
     },
     "execution_count": 23,
     "metadata": {},
     "output_type": "execute_result"
    }
   ],
   "source": [
    "a2[0,1:] #행, 열이라고 생각하면 쉽다.\n",
    "a2[1,1:]"
   ]
  },
  {
   "cell_type": "markdown",
   "id": "94dc4899",
   "metadata": {},
   "source": [
    "## OpenCV 기본연산"
   ]
  },
  {
   "cell_type": "markdown",
   "id": "c97cc18e",
   "metadata": {},
   "source": [
    "* 형상(shape), 자료형(dtype) 확인"
   ]
  },
  {
   "cell_type": "code",
   "execution_count": 4,
   "id": "228fe4c4",
   "metadata": {},
   "outputs": [],
   "source": [
    "img = cv2.imread('./data/Lena.jpg') #cv2.IMREAD_COLOR"
   ]
  },
  {
   "cell_type": "code",
   "execution_count": 5,
   "id": "d5f0d15c",
   "metadata": {},
   "outputs": [
    {
     "data": {
      "text/plain": [
       "3"
      ]
     },
     "execution_count": 5,
     "metadata": {},
     "output_type": "execute_result"
    }
   ],
   "source": [
    "img.ndim #3차원"
   ]
  },
  {
   "cell_type": "code",
   "execution_count": 6,
   "id": "a2780f7d",
   "metadata": {},
   "outputs": [
    {
     "data": {
      "text/plain": [
       "(512, 512, 3)"
      ]
     },
     "execution_count": 6,
     "metadata": {},
     "output_type": "execute_result"
    }
   ],
   "source": [
    "img.shape # (512, 512)가 세장 있다 b g r이렇게 세개"
   ]
  },
  {
   "cell_type": "code",
   "execution_count": 7,
   "id": "093b13b8",
   "metadata": {},
   "outputs": [
    {
     "data": {
      "text/plain": [
       "dtype('uint8')"
      ]
     },
     "execution_count": 7,
     "metadata": {},
     "output_type": "execute_result"
    }
   ],
   "source": [
    "img.dtype #양수이고 255까지라서 uint의 8비트 인듯"
   ]
  },
  {
   "cell_type": "code",
   "execution_count": 8,
   "id": "c98dcd72",
   "metadata": {},
   "outputs": [],
   "source": [
    "img = img.astype(np.int32)"
   ]
  },
  {
   "cell_type": "code",
   "execution_count": 9,
   "id": "80faa4e7",
   "metadata": {},
   "outputs": [
    {
     "data": {
      "text/plain": [
       "dtype('int32')"
      ]
     },
     "execution_count": 9,
     "metadata": {},
     "output_type": "execute_result"
    }
   ],
   "source": [
    "img.dtype"
   ]
  },
  {
   "cell_type": "code",
   "execution_count": 10,
   "id": "0c850f8e",
   "metadata": {},
   "outputs": [],
   "source": [
    "img = np.uint8(img) #함수 통과도 가능 int()랑 동일."
   ]
  },
  {
   "cell_type": "code",
   "execution_count": 11,
   "id": "9e6a8a5e",
   "metadata": {},
   "outputs": [
    {
     "data": {
      "text/plain": [
       "dtype('uint8')"
      ]
     },
     "execution_count": 11,
     "metadata": {},
     "output_type": "execute_result"
    }
   ],
   "source": [
    "img.dtype"
   ]
  },
  {
   "cell_type": "markdown",
   "id": "a5e5047c",
   "metadata": {},
   "source": [
    "* 모양 변경하기"
   ]
  },
  {
   "cell_type": "code",
   "execution_count": 12,
   "id": "a5176582",
   "metadata": {},
   "outputs": [],
   "source": [
    "img = cv2.imread('./data/lena.jpg', cv2.IMREAD_GRAYSCALE)"
   ]
  },
  {
   "cell_type": "code",
   "execution_count": 13,
   "id": "b9cc6696",
   "metadata": {},
   "outputs": [
    {
     "data": {
      "text/plain": [
       "(512, 512)"
      ]
     },
     "execution_count": 13,
     "metadata": {},
     "output_type": "execute_result"
    }
   ],
   "source": [
    "img.shape"
   ]
  },
  {
   "cell_type": "code",
   "execution_count": 14,
   "id": "91840d1f",
   "metadata": {},
   "outputs": [
    {
     "data": {
      "text/plain": [
       "262144"
      ]
     },
     "execution_count": 14,
     "metadata": {},
     "output_type": "execute_result"
    }
   ],
   "source": [
    "512 * 512 #flat은 일차원으로 만들어준다."
   ]
  },
  {
   "cell_type": "code",
   "execution_count": 15,
   "id": "5ea49792",
   "metadata": {},
   "outputs": [],
   "source": [
    "img = img.flatten()"
   ]
  },
  {
   "cell_type": "code",
   "execution_count": 16,
   "id": "ab116b43",
   "metadata": {},
   "outputs": [
    {
     "data": {
      "text/plain": [
       "(262144,)"
      ]
     },
     "execution_count": 16,
     "metadata": {},
     "output_type": "execute_result"
    }
   ],
   "source": [
    "img.shape"
   ]
  },
  {
   "cell_type": "code",
   "execution_count": 17,
   "id": "0085d7d9",
   "metadata": {},
   "outputs": [],
   "source": [
    "img = img.reshape(512, 512)"
   ]
  },
  {
   "cell_type": "code",
   "execution_count": 18,
   "id": "b3393eee",
   "metadata": {},
   "outputs": [
    {
     "data": {
      "text/plain": [
       "(512, 512)"
      ]
     },
     "execution_count": 18,
     "metadata": {},
     "output_type": "execute_result"
    }
   ],
   "source": [
    "img.shape"
   ]
  },
  {
   "cell_type": "code",
   "execution_count": 19,
   "id": "6af1e715",
   "metadata": {},
   "outputs": [],
   "source": [
    "img = img.flatten()"
   ]
  },
  {
   "cell_type": "code",
   "execution_count": 20,
   "id": "bf912e8c",
   "metadata": {},
   "outputs": [],
   "source": [
    "img = img.reshape(-1, 512, 512)"
   ]
  },
  {
   "cell_type": "code",
   "execution_count": 21,
   "id": "7505bb7d",
   "metadata": {},
   "outputs": [
    {
     "data": {
      "text/plain": [
       "(1, 512, 512)"
      ]
     },
     "execution_count": 21,
     "metadata": {},
     "output_type": "execute_result"
    }
   ],
   "source": [
    "img.shape # 3차원 512 512 1하고 비슷한듯"
   ]
  },
  {
   "cell_type": "code",
   "execution_count": 26,
   "id": "5938c0cd",
   "metadata": {},
   "outputs": [],
   "source": [
    "cv2.imshow('img', img[0,:,:])\n",
    "cv2.waitKey()\n",
    "cv2.destroyAllWindows()"
   ]
  },
  {
   "cell_type": "markdown",
   "id": "d87b47cd",
   "metadata": {},
   "source": [
    "* 화소 접근 1 : 그레이 스케일 영상"
   ]
  },
  {
   "cell_type": "code",
   "execution_count": 37,
   "id": "1f6df34d",
   "metadata": {
    "scrolled": true
   },
   "outputs": [
    {
     "data": {
      "text/plain": [
       "array([[163, 162, 161, ..., 170, 154, 130],\n",
       "       [162, 162, 162, ..., 173, 155, 126],\n",
       "       [162, 162, 163, ..., 170, 155, 128],\n",
       "       ...,\n",
       "       [ 43,  42,  51, ..., 103, 101,  99],\n",
       "       [ 41,  42,  55, ..., 103, 105, 106],\n",
       "       [ 42,  44,  57, ..., 102, 106, 109]], dtype=uint8)"
      ]
     },
     "execution_count": 37,
     "metadata": {},
     "output_type": "execute_result"
    }
   ],
   "source": [
    "img = cv2.imread('./data/lena.jpg', cv2.IMREAD_GRAYSCALE)\n",
    "img # 512, 512\n",
    "\n",
    "img[100, 200] = 0\n",
    "img[100: 400, 200:300] = 0 #이때는 np라서 200열의 100번째 행으로 간다.\n",
    "\n",
    "cv2.imshow('img', img)\n",
    "cv2.waitKey()\n",
    "cv2.destroyAllWindows()"
   ]
  },
  {
   "cell_type": "code",
   "execution_count": 38,
   "id": "5c5367fb",
   "metadata": {},
   "outputs": [],
   "source": [
    "img[100: 400, 200:300] = 0 #이때는 np라서 200열의 100번째 행으로 간다."
   ]
  },
  {
   "cell_type": "code",
   "execution_count": 39,
   "id": "5163acda",
   "metadata": {},
   "outputs": [],
   "source": [
    "cv2.imshow('img', img)\n",
    "cv2.waitKey()\n",
    "cv2.destroyAllWindows()"
   ]
  },
  {
   "cell_type": "markdown",
   "id": "271a835b",
   "metadata": {},
   "source": [
    "* 화소 접근 2 : 컬러 영상"
   ]
  },
  {
   "cell_type": "code",
   "execution_count": 55,
   "id": "0bd8a4e0",
   "metadata": {},
   "outputs": [],
   "source": [
    "img = cv2.imread('./data/lena.jpg', cv2.IMREAD_GRAYSCALE)\n",
    " \n",
    "img[100, 200] = 0\n",
    "img[100: 400, 200:300] = 0\n",
    "\n",
    "cv2.imshow('img', img)\n",
    "cv2.waitKey()\n",
    "cv2.destroyAllWindows()"
   ]
  },
  {
   "cell_type": "markdown",
   "id": "a364930f",
   "metadata": {},
   "source": [
    "* 화소 접근 3 : 채널 접근"
   ]
  },
  {
   "cell_type": "code",
   "execution_count": 54,
   "id": "1e1775cc",
   "metadata": {},
   "outputs": [],
   "source": [
    "img = cv2.imread('./data/lena.jpg', cv2.IMREAD_COLOR)\n",
    " \n",
    "img[100: 400, 200:300, 0] = 255 # BlueChanel\n",
    "img[100: 400, 200:300, 1] = 0   # Green\n",
    "img[100: 400, 200:300, 2] = 255 # Red\n",
    "\n",
    "cv2.imshow('img', img)\n",
    "cv2.waitKey()\n",
    "cv2.destroyAllWindows()"
   ]
  },
  {
   "cell_type": "markdown",
   "id": "feb303eb",
   "metadata": {},
   "source": [
    "* 마우스로 ROI(관심영역) 영역 지정  : selectROI()"
   ]
  },
  {
   "cell_type": "code",
   "execution_count": 24,
   "id": "0aeb5eb0",
   "metadata": {},
   "outputs": [],
   "source": [
    "src = cv2.imread('./data/lena.jpg', cv2.IMREAD_GRAYSCALE)\n",
    "roi = cv2.selectROI(src)\n",
    "x = roi[:2]\n",
    "y = roi[2:]\n",
    "img = src[roi[1]:roi[1] + roi[3], roi[0]:roi[0]+roi[2]]\n",
    "\n",
    "#cv2.rectangle(src, x, y, (255, 255, 255), 3)\n",
    "\n",
    "cv2.imshow('img', img)\n",
    "cv2.waitKey()\n",
    "cv2.destroyAllWindows()"
   ]
  },
  {
   "cell_type": "code",
   "execution_count": 16,
   "id": "72b485ec",
   "metadata": {},
   "outputs": [],
   "source": [
    "cv2.destroyAllWindows()"
   ]
  },
  {
   "cell_type": "code",
   "execution_count": 14,
   "id": "4f159485",
   "metadata": {},
   "outputs": [
    {
     "data": {
      "text/plain": [
       "(184, 186, 197, 225)"
      ]
     },
     "execution_count": 14,
     "metadata": {},
     "output_type": "execute_result"
    }
   ],
   "source": [
    "roi #x, y, x , y가 나온다. 좌상단과 width height"
   ]
  },
  {
   "cell_type": "markdown",
   "id": "b63fdbe6",
   "metadata": {},
   "source": [
    "* 마우스로 다중 ROI 영역 지정 : selectROIs()"
   ]
  },
  {
   "cell_type": "code",
   "execution_count": null,
   "id": "68b8e61d",
   "metadata": {},
   "outputs": [],
   "source": [
    "# 만들고 스페이스 한 것에 대해서 esc쳐야 값이 나온다."
   ]
  },
  {
   "cell_type": "code",
   "execution_count": 81,
   "id": "546653d7",
   "metadata": {},
   "outputs": [],
   "source": [
    "src = cv2.imread('./data/lena.jpg', cv2.IMREAD_GRAYSCALE)\n",
    "rois = cv2.selectROIs('src', src, False, True) #Flase는 격자에 대한 값 True는 찍은 곳은 센터로 둘것인지 아니면 드래그로 할 것인지를 찍는다.\n",
    "\n",
    "for r in rois:\n",
    "    cv2.rectangle(src, (r[0], r[1]), (r[0]+r[2], r[1]+r[3]), (255, 255, 255), 3)\n",
    "    \n",
    "cv2.imshow('src', src)\n",
    "cv2.waitKey()\n",
    "cv2.destroyAllWindows()"
   ]
  },
  {
   "cell_type": "code",
   "execution_count": 37,
   "id": "28872d10",
   "metadata": {
    "scrolled": true
   },
   "outputs": [
    {
     "data": {
      "text/plain": [
       "array([[ 74,  15, 244, 348],\n",
       "       [239, 134, 200, 246]], dtype=int32)"
      ]
     },
     "execution_count": 37,
     "metadata": {},
     "output_type": "execute_result"
    }
   ],
   "source": [
    "rois #내가 그린 roi들의 리스트다 center가 True라고 중심점이 아니라 좌측, 상단, 너비, 높이이다.."
   ]
  },
  {
   "cell_type": "markdown",
   "id": "9e401ca5",
   "metadata": {},
   "source": [
    "* 블록 평균 영상"
   ]
  },
  {
   "cell_type": "code",
   "execution_count": 80,
   "id": "fe1c07e7",
   "metadata": {},
   "outputs": [],
   "source": [
    "src = cv2.imread('./data/lena.jpg', cv2.IMREAD_GRAYSCALE)\n",
    "dst = np.zeros(src.shape, dtype=np.uint8)\n",
    "\n",
    "N = 20\n",
    "height, width = dst.shape\n",
    "\n",
    "h = height // N\n",
    "w = width // N\n",
    "\n",
    "for i in range(N):\n",
    "    for j in range(N):\n",
    "        x = j * w\n",
    "        y = i * h\n",
    "        roi = src[y:y+h, x:x+w]\n",
    "        dst[y:y+h, x:x+w] = roi.mean()\n",
    "        \n",
    "cv2.imshow('dst', dst)\n",
    "cv2.waitKey()\n",
    "cv2.destroyAllWindows()\n",
    "# 영역을 만들고 평균을 낸다 모자이크의 효과이다."
   ]
  },
  {
   "cell_type": "code",
   "execution_count": 56,
   "id": "3850706d",
   "metadata": {},
   "outputs": [
    {
     "data": {
      "text/plain": [
       "dtype('uint8')"
      ]
     },
     "execution_count": 56,
     "metadata": {},
     "output_type": "execute_result"
    }
   ],
   "source": [
    "src.dtype"
   ]
  },
  {
   "cell_type": "code",
   "execution_count": 86,
   "id": "07c8576a",
   "metadata": {},
   "outputs": [],
   "source": [
    "src = cv2.imread('./data/lena.jpg', cv2.IMREAD_COLOR)\n",
    "dst = np.zeros(src.shape, dtype=np.uint8)\n",
    "\n",
    "N = 100\n",
    "height, width = dst.shape[:2] # _ 언더바로 받아도 되는데 안쓰는 것을 _에 받아오는 역할\n",
    "\n",
    "h = height // N\n",
    "w = width // N\n",
    "\n",
    "for i in range(N):\n",
    "    for j in range(N):\n",
    "        x = j * w\n",
    "        y = i * h\n",
    "        roi = src[y:y+h, x:x+w]\n",
    "        dst[y:y+h, x:x+w, 0] = roi[:,:,0].mean()\n",
    "        dst[y:y+h, x:x+w, 1] = roi[:,:,1].mean()\n",
    "        dst[y:y+h, x:x+w, 2] = roi[:,:,2].mean()\n",
    "        \n",
    "cv2.imshow('dst', dst)\n",
    "cv2.waitKey()\n",
    "cv2.destroyAllWindows()\n",
    "# 영역을 만들고 평균을 낸다 모자이크의 효과이다."
   ]
  },
  {
   "cell_type": "markdown",
   "id": "00114a1f",
   "metadata": {},
   "source": [
    "* 영상 복사"
   ]
  },
  {
   "cell_type": "code",
   "execution_count": 89,
   "id": "293cb9b2",
   "metadata": {},
   "outputs": [],
   "source": [
    "src = cv2.imread('./data/lena.jpg', cv2.IMREAD_GRAYSCALE)\n",
    "\n",
    "# dts = src      #참조\n",
    "dst = src.copy() #복사\n",
    "\n",
    "dst[100:400, 200:300] = 0\n",
    "\n",
    "cv2.imshow('src', src) #카피를 해야지 복사본 건드려도 원본이 보존이 된다.\n",
    "cv2.imshow('dst', dst)\n",
    "cv2.waitKey()\n",
    "cv2.destroyAllWindows()"
   ]
  },
  {
   "cell_type": "code",
   "execution_count": 101,
   "id": "394c7dea",
   "metadata": {},
   "outputs": [],
   "source": [
    "src = cv2.imread('./data/lena.jpg', cv2.IMREAD_GRAYSCALE)\n",
    "\n",
    "shape = src.shape[0], src.shape[1], 3\n",
    "dst = np.zeros(shape, dtype=np.uint8)\n",
    "\n",
    "#dst[:,:,0] = src\n",
    "dst[:,:,1] = src\n",
    "dst[:,:,2] = src\n",
    "\n",
    "cv2.imshow('src', src)\n",
    "cv2.imshow('dst', dst)\n",
    "\n",
    "cv2.waitKey()\n",
    "cv2.destroyAllWindows()"
   ]
  },
  {
   "cell_type": "markdown",
   "id": "e10cd69c",
   "metadata": {},
   "source": [
    "* 채널 분리"
   ]
  },
  {
   "cell_type": "code",
   "execution_count": 102,
   "id": "d7de501d",
   "metadata": {},
   "outputs": [],
   "source": [
    "src = cv2.imread('./data/lena.jpg', cv2.IMREAD_COLOR)\n",
    "dst = cv2.split(src)"
   ]
  },
  {
   "cell_type": "code",
   "execution_count": 106,
   "id": "6c16746c",
   "metadata": {},
   "outputs": [
    {
     "data": {
      "text/plain": [
       "3"
      ]
     },
     "execution_count": 106,
     "metadata": {},
     "output_type": "execute_result"
    }
   ],
   "source": [
    "len(dst) #3개로 나뉘었다는 것 b g r값이다."
   ]
  },
  {
   "cell_type": "code",
   "execution_count": 121,
   "id": "7df75207",
   "metadata": {},
   "outputs": [],
   "source": [
    "dst[0].shape\n",
    "\n",
    "cv2.imshow('src', src)\n",
    "cv2.imshow('blue', dst[0]) #아무리 블루에 대한 속성값이라고 해도 2차원인 이상 그레이 스케일이다.\n",
    "cv2.imshow('green', dst[1])\n",
    "cv2.imshow('red', dst[2]) #많이 들어간 부분일 수록 밝게 보인다.\n",
    "cv2.waitKey()\n",
    "cv2.destroyAllWindows()"
   ]
  },
  {
   "cell_type": "code",
   "execution_count": 113,
   "id": "fa72fc61",
   "metadata": {},
   "outputs": [
    {
     "data": {
      "text/plain": [
       "numpy.ndarray"
      ]
     },
     "execution_count": 113,
     "metadata": {},
     "output_type": "execute_result"
    }
   ],
   "source": [
    "type(dst[1])"
   ]
  },
  {
   "cell_type": "code",
   "execution_count": 114,
   "id": "b4a97fa4",
   "metadata": {},
   "outputs": [
    {
     "data": {
      "text/plain": [
       "array([[225, 224, 224, ..., 236, 220, 197],\n",
       "       [224, 224, 224, ..., 235, 217, 189],\n",
       "       [224, 224, 225, ..., 230, 215, 190],\n",
       "       ...,\n",
       "       [ 82,  81,  92, ..., 175, 175, 175],\n",
       "       [ 80,  81,  96, ..., 177, 181, 183],\n",
       "       [ 81,  83,  98, ..., 176, 183, 188]], dtype=uint8)"
      ]
     },
     "execution_count": 114,
     "metadata": {},
     "output_type": "execute_result"
    }
   ],
   "source": [
    "dst[2]"
   ]
  },
  {
   "cell_type": "code",
   "execution_count": 127,
   "id": "6ee6926d",
   "metadata": {},
   "outputs": [],
   "source": [
    "src = cv2.imread('./data/candies.png', cv2.IMREAD_COLOR)\n",
    "\n",
    "b, g, r = cv2.split(src)\n",
    "\n",
    "cv2.imshow('src', src)\n",
    "cv2.imshow('blue', b) #아무리 블루에 대한 속성값이라고 해도 2차원인 이상 그레이 스케일이다.\n",
    "cv2.imshow('green', g)\n",
    "cv2.imshow('red', r) #많이 들어간 부분일 수록 밝게 보인다.\n",
    "\n",
    "cv2.waitKey()\n",
    "cv2.destroyAllWindows()"
   ]
  },
  {
   "cell_type": "markdown",
   "id": "3095845b",
   "metadata": {},
   "source": [
    "* 채널 병합"
   ]
  },
  {
   "cell_type": "code",
   "execution_count": 132,
   "id": "fc753cf0",
   "metadata": {
    "scrolled": true
   },
   "outputs": [
    {
     "data": {
      "text/plain": [
       "(480, 640, 3)"
      ]
     },
     "execution_count": 132,
     "metadata": {},
     "output_type": "execute_result"
    }
   ],
   "source": [
    "merge = cv2.merge([b, g, r])\n",
    "\n",
    "merge.shape #합쳐진 것을 볼 수 있다."
   ]
  },
  {
   "cell_type": "markdown",
   "id": "d40cd47a",
   "metadata": {},
   "source": [
    "* 색 변환"
   ]
  },
  {
   "cell_type": "markdown",
   "id": "f14761fd",
   "metadata": {},
   "source": [
    "그레이 스케일 영상이 처리속도와 메모리 사용량이 낮기 때문임. 또한 색이라는 것이 도움되지 않는 경우에 특히 그레이 스케일로 영상을 변환한다"
   ]
  },
  {
   "cell_type": "markdown",
   "id": "17cf1676",
   "metadata": {},
   "source": [
    "cv2.cvtColor(대상, 변환함수)"
   ]
  },
  {
   "cell_type": "markdown",
   "id": "4528fc94",
   "metadata": {},
   "source": [
    "그레이스케일 변환 공식 = 0.299R + 0.587G + 0.114B 이다"
   ]
  },
  {
   "cell_type": "code",
   "execution_count": null,
   "id": "b4da9e70",
   "metadata": {},
   "outputs": [],
   "source": [
    "src = cv2.imread('./data/lena.png', cv2.IMREAD_COLOR)\n",
    "\n",
    "gray = cv2.cvtColor(src, cv2.COLOR_BGR2GRAY)\n",
    "tCrCv = cv2.cvtColor(src, cv2.COLOR_BGR2YCrCb)\n",
    "hsv = cv2.cvtColor(src, cv2.COLOR_BGR2HSV)"
   ]
  },
  {
   "cell_type": "code",
   "execution_count": null,
   "id": "778d4dca",
   "metadata": {},
   "outputs": [],
   "source": [
    "bgr = cv2.cvtColor(gray, cv2.COLOR_GRAY2BGR)"
   ]
  },
  {
   "cell_type": "code",
   "execution_count": 148,
   "id": "f8a91645",
   "metadata": {},
   "outputs": [],
   "source": [
    "cv2.imshow('bgr', bgr)\n",
    "cv2.waitKey()\n",
    "cv2.destroyAllWindows()"
   ]
  },
  {
   "cell_type": "code",
   "execution_count": 139,
   "id": "e523bf44",
   "metadata": {},
   "outputs": [],
   "source": [
    "cv2.imshow('gray', gray)\n",
    "cv2.imshow('tCrCv', tCrCv)\n",
    "cv2.imshow('hsv', hsv)\n",
    "cv2.waitKey()\n",
    "cv2.destroyAllWindows()"
   ]
  },
  {
   "cell_type": "code",
   "execution_count": 152,
   "id": "4db60d57",
   "metadata": {},
   "outputs": [
    {
     "data": {
      "text/plain": [
       "262144"
      ]
     },
     "execution_count": 152,
     "metadata": {},
     "output_type": "execute_result"
    }
   ],
   "source": [
    "512 * 512"
   ]
  },
  {
   "cell_type": "code",
   "execution_count": 155,
   "id": "73c8f668",
   "metadata": {},
   "outputs": [
    {
     "data": {
      "text/plain": [
       "262144"
      ]
     },
     "execution_count": 155,
     "metadata": {},
     "output_type": "execute_result"
    }
   ],
   "source": [
    "(bgr[:, : ,2] == gray).sum() #결국에 그레이 채널을 복사해서 만든 것뿐이다."
   ]
  },
  {
   "cell_type": "markdown",
   "id": "ad54a547",
   "metadata": {},
   "source": [
    "* 전단 변환은 x 나 y축을 조금씩 밀어서 평행사변형으로 만드는 것."
   ]
  },
  {
   "cell_type": "markdown",
   "id": "91b971a2",
   "metadata": {},
   "source": [
    "* 영상 크기 변환"
   ]
  },
  {
   "cell_type": "code",
   "execution_count": 157,
   "id": "8a3ab10e",
   "metadata": {},
   "outputs": [],
   "source": [
    "src = cv2.imread('./data/lena.jpg', cv2.IMREAD_GRAYSCALE)"
   ]
  },
  {
   "cell_type": "code",
   "execution_count": 162,
   "id": "b7ddfb2b",
   "metadata": {},
   "outputs": [],
   "source": [
    "dst1 = cv2.resize(src, dsize=(320, 240)) #이렇게 사이즈를 직접 지정해도 되고\n",
    "dst2 = cv2.resize(src, dsize=(0, 0), fx=1.5, fy=1.2) #이런식으로 배수를 정할 수도 있다.\n",
    "\n",
    "cv2.imshow('dst1', dst1)\n",
    "cv2.imshow('dst2', dst2)\n",
    "cv2.waitKey()\n",
    "cv2.destroyAllWindows()"
   ]
  },
  {
   "cell_type": "markdown",
   "id": "2c2fa479",
   "metadata": {},
   "source": [
    "* 영상 회전 변환"
   ]
  },
  {
   "cell_type": "code",
   "execution_count": 165,
   "id": "2b1da6ef",
   "metadata": {},
   "outputs": [],
   "source": [
    "src = cv2.imread('./data/lena.jpg')\n",
    "\n",
    "dst1 = cv2.rotate(src, cv2.ROTATE_90_CLOCKWISE) #시계방향\n",
    "dst2 = cv2.rotate(src, cv2.ROTATE_90_COUNTERCLOCKWISE) #반시계방향\n",
    "\n",
    "cv2.imshow('dst1', dst1)\n",
    "cv2.imshow('dst2', dst2)\n",
    "cv2.waitKey()\n",
    "cv2.destroyAllWindows()"
   ]
  },
  {
   "cell_type": "code",
   "execution_count": 175,
   "id": "5c125500",
   "metadata": {},
   "outputs": [],
   "source": [
    "src = cv2.imread('./data/lena.jpg')\n",
    "\n",
    "height, width, channels = src.shape\n",
    "\n",
    "M1 = cv2.getRotationMatrix2D((height/2, width/2), 45, 0.5) #y x순으로 집어넣는다.\n",
    "M2 = cv2.getRotationMatrix2D((height/2, width/2), -45, 0.5) #마지막 1은 스케일 45는 각도\n",
    "\n",
    "dst1 = cv2.warpAffine(src, M1, (width, height)) #진짜 변환하는 것.\n",
    "dst2 = cv2.warpAffine(src, M2, (width, height))\n",
    "\n",
    "cv2.imshow('dst1', dst1)\n",
    "cv2.imshow('dst2', dst2)\n",
    "cv2.waitKey()\n",
    "cv2.destroyAllWindows()"
   ]
  },
  {
   "cell_type": "markdown",
   "id": "2788e338",
   "metadata": {},
   "source": [
    "크기변환 / 전단변환 / 회전변환 / 어파인변환 / 대칭변환 / 투시변환 \n",
    "\n",
    "* 결국 중요한 건 매트릭스를 설정하는 것이다."
   ]
  },
  {
   "cell_type": "markdown",
   "id": "54088d4f",
   "metadata": {},
   "source": [
    "* 영상 어파인 변환 (주어진 세개의 점을 가지고 평행사변형 만들기)"
   ]
  },
  {
   "cell_type": "code",
   "execution_count": 178,
   "id": "63f7b3a8",
   "metadata": {},
   "outputs": [],
   "source": [
    "src = cv2.imread('./data/tekapo.bmp')\n",
    "height, width, channels = src.shape\n",
    "\n",
    "srcPts = np.float32([[0, 0], [width-1, 0], [width-1, height-1]]) #모서리 세 지점 0, 0, 우측 끝, 우 하단\n",
    "dstPts = np.float32([[50, 50], [width-100, 100], [width-50, height-50]]) #모서리 세 지점\n",
    "\n",
    "\n",
    "M = cv2.getAffineTransform(srcPts, dstPts) # 세지점 바꿀 세 지점\n",
    "\n",
    "dst = cv2.warpAffine(src, M, (width, height))\n",
    "\n",
    "cv2.imshow('dst', dst)\n",
    "cv2.waitKey()\n",
    "cv2.destroyAllWindows()"
   ]
  },
  {
   "cell_type": "code",
   "execution_count": 179,
   "id": "05cb7826",
   "metadata": {},
   "outputs": [
    {
     "data": {
      "text/plain": [
       "dtype('float64')"
      ]
     },
     "execution_count": 179,
     "metadata": {},
     "output_type": "execute_result"
    }
   ],
   "source": [
    "M.dtype #플롯형이다"
   ]
  },
  {
   "cell_type": "markdown",
   "id": "5f2c6c0a",
   "metadata": {},
   "source": [
    "* 영상 이동 변환 (축소/ 확대)"
   ]
  },
  {
   "cell_type": "code",
   "execution_count": 181,
   "id": "3cabc265",
   "metadata": {},
   "outputs": [],
   "source": [
    "src = cv2.imread('./data/tekapo.bmp')\n",
    "height, width, channels = src.shape\n",
    "\n",
    "M = np.array([[1, 0, 150],\n",
    "            [0, 1, 100]], dtype=np.float64) # 세지점 바꿀 세 지점\n",
    "\n",
    "dst = cv2.warpAffine(src, M, (width, height))\n",
    "\n",
    "cv2.imshow('dst', dst)\n",
    "cv2.waitKey()\n",
    "cv2.destroyAllWindows()"
   ]
  },
  {
   "cell_type": "markdown",
   "id": "0d11b37f",
   "metadata": {},
   "source": [
    "* 영상 대칭 변환 (좌, 우/ 상, 하)"
   ]
  },
  {
   "cell_type": "code",
   "execution_count": 184,
   "id": "cf8c58cb",
   "metadata": {},
   "outputs": [],
   "source": [
    "src = cv2.imread('./data/eastsea.bmp')\n",
    "\n",
    "dst1 = cv2.flip(src, 1) # 1 : 좌우 대칭\n",
    "dst2 = cv2.flip(src, 0) # 0 : 상하 대칭\n",
    "dst3 = cv2.flip(src, -1) # -1: 좌우 상하\n",
    "\n",
    "cv2.imshow('src', src)\n",
    "cv2.imshow('dst1', dst1)\n",
    "cv2.imshow('dst2', dst2)\n",
    "cv2.imshow('dst3', dst3)\n",
    "cv2.waitKey()\n",
    "cv2.destroyAllWindows()"
   ]
  },
  {
   "cell_type": "markdown",
   "id": "43c4209d",
   "metadata": {},
   "source": [
    "cv2.flip(src, 1) # 1 : 좌우 대칭, 0 : 상하 대칭, -1: 좌우 상하"
   ]
  },
  {
   "cell_type": "markdown",
   "id": "63a38f2d",
   "metadata": {},
   "source": [
    "* 투시 변환"
   ]
  },
  {
   "cell_type": "code",
   "execution_count": 281,
   "id": "5723f431",
   "metadata": {},
   "outputs": [],
   "source": [
    "src = cv2.imread('./data/card.bmp')\n",
    "height, width, channels = src.shape\n",
    "x_y = []\n",
    "cnt = 0\n",
    "\n",
    "def onMouse(event, x, y, flags, param):\n",
    "    global cnt\n",
    "    if event == cv2.EVENT_LBUTTONDOWN:\n",
    "        x_y.append([x, y])\n",
    "        cv2.circle(param[0], (x, y), 5, (255, 0, 0), 3) #param이 여러개를 받아와서 색인으로 해야함\n",
    "        cnt += 1\n",
    "    if cnt == 4:\n",
    "        dst1 = np.array(x_y[:4], np.float32)\n",
    "        dst2 = np.float32([[0, 0], [width-1, 0], [width - 1, height -1], [0, height-1]])\n",
    "\n",
    "        M = cv2.getPerspectiveTransform(dst1, dst2)\n",
    "        dst = cv2.warpPerspective(src, M, (width, height))\n",
    "        \n",
    "        cv2.imshow('dst', dst)\n",
    "        cv2.waitKey()\n",
    "        cv2.destroyAllWindows()\n",
    "        return\n",
    "    \n",
    "    cv2.imshow('src', param[0])\n",
    "    \n",
    "cv2.imshow('src', src)\n",
    "                          \n",
    "cv2.setMouseCallback('src', onMouse, [src])\n",
    "cv2.waitKey()\n",
    "cv2.destroyAllWindows()"
   ]
  },
  {
   "cell_type": "code",
   "execution_count": 267,
   "id": "f9134399",
   "metadata": {},
   "outputs": [],
   "source": [
    "# 재효님 코드\n",
    "src = cv2.imread('./data/card.bmp')\n",
    "\n",
    "srcPts = np.zeros((4, 2), dtype=np.float32)\n",
    "cnt = 0\n",
    "def onMouse(event, x, y, flags, param):\n",
    "    global cnt\n",
    "    if event == cv2.EVENT_LBUTTONDOWN:\n",
    "        cv2.circle(param[0], (x, y), 5, (0, 0, 255), 3)\n",
    "        srcPts[cnt] = [x, y]\n",
    "        cnt+= 1\n",
    "        \n",
    "        if cnt == 4:\n",
    "            w = 150\n",
    "            h = 200\n",
    "            dstPts = np.float32([[0, 0], [w, 0],\n",
    "                                [w, h], [0, h]])\n",
    "            \n",
    "            \n",
    "            M = cv2.getPerspectiveTransform(srcPts, dstPts)\n",
    "\n",
    "            dst = cv2.warpPerspective(src, M, (w, h))\n",
    "            cv2.imshow('dst', dst)\n",
    "            \n",
    "    cv2.imshow('src', param[0])        \n",
    "\n",
    "cv2.imshow('src', src)\n",
    "cv2.setMouseCallback('src', onMouse, [src])\n",
    "cv2.waitKey()\n",
    "cv2.destroyAllWindows()"
   ]
  },
  {
   "cell_type": "code",
   "execution_count": 1,
   "id": "a803a05a",
   "metadata": {},
   "outputs": [
    {
     "ename": "NameError",
     "evalue": "name 'np' is not defined",
     "output_type": "error",
     "traceback": [
      "\u001b[1;31m---------------------------------------------------------------------------\u001b[0m",
      "\u001b[1;31mNameError\u001b[0m                                 Traceback (most recent call last)",
      "\u001b[1;32m<ipython-input-1-edbbe19489c6>\u001b[0m in \u001b[0;36m<module>\u001b[1;34m\u001b[0m\n\u001b[0;32m      1\u001b[0m \u001b[0mheight\u001b[0m\u001b[1;33m,\u001b[0m \u001b[0mwidth\u001b[0m \u001b[1;33m=\u001b[0m \u001b[1;36m300\u001b[0m\u001b[1;33m,\u001b[0m \u001b[1;36m200\u001b[0m\u001b[1;33m\u001b[0m\u001b[1;33m\u001b[0m\u001b[0m\n\u001b[0;32m      2\u001b[0m \u001b[1;33m\u001b[0m\u001b[0m\n\u001b[1;32m----> 3\u001b[1;33m \u001b[0msrcQuad\u001b[0m \u001b[1;33m=\u001b[0m \u001b[0mnp\u001b[0m\u001b[1;33m.\u001b[0m\u001b[0mzeros\u001b[0m\u001b[1;33m(\u001b[0m\u001b[1;33m(\u001b[0m\u001b[1;36m4\u001b[0m\u001b[1;33m,\u001b[0m \u001b[1;36m2\u001b[0m\u001b[1;33m)\u001b[0m\u001b[1;33m,\u001b[0m \u001b[0mdtype\u001b[0m\u001b[1;33m=\u001b[0m\u001b[0mnp\u001b[0m\u001b[1;33m.\u001b[0m\u001b[0mfloat32\u001b[0m\u001b[1;33m)\u001b[0m\u001b[1;33m\u001b[0m\u001b[1;33m\u001b[0m\u001b[0m\n\u001b[0m\u001b[0;32m      4\u001b[0m \u001b[1;31m#dstQuad = np.zeros((4, 2), dtype=np.float32)\u001b[0m\u001b[1;33m\u001b[0m\u001b[1;33m\u001b[0m\u001b[1;33m\u001b[0m\u001b[0m\n\u001b[0;32m      5\u001b[0m \u001b[0mdstQuad\u001b[0m \u001b[1;33m=\u001b[0m \u001b[0mnp\u001b[0m\u001b[1;33m.\u001b[0m\u001b[0marray\u001b[0m\u001b[1;33m(\u001b[0m\u001b[1;33m[\u001b[0m\u001b[1;33m[\u001b[0m\u001b[1;36m0\u001b[0m\u001b[1;33m,\u001b[0m \u001b[1;36m0\u001b[0m\u001b[1;33m]\u001b[0m\u001b[1;33m,\u001b[0m \u001b[1;33m[\u001b[0m\u001b[0mwidth\u001b[0m\u001b[1;33m-\u001b[0m\u001b[1;36m1\u001b[0m\u001b[1;33m,\u001b[0m \u001b[1;36m0\u001b[0m\u001b[1;33m]\u001b[0m\u001b[1;33m,\u001b[0m \u001b[1;33m[\u001b[0m\u001b[0mwidth\u001b[0m \u001b[1;33m-\u001b[0m \u001b[1;36m1\u001b[0m\u001b[1;33m,\u001b[0m \u001b[0mheight\u001b[0m \u001b[1;33m-\u001b[0m\u001b[1;36m1\u001b[0m\u001b[1;33m]\u001b[0m\u001b[1;33m,\u001b[0m \u001b[1;33m[\u001b[0m\u001b[1;36m0\u001b[0m\u001b[1;33m,\u001b[0m \u001b[0mheight\u001b[0m\u001b[1;33m-\u001b[0m\u001b[1;36m1\u001b[0m\u001b[1;33m]\u001b[0m\u001b[1;33m]\u001b[0m\u001b[1;33m,\u001b[0m \u001b[0mdtype\u001b[0m\u001b[1;33m=\u001b[0m\u001b[0mnp\u001b[0m\u001b[1;33m.\u001b[0m\u001b[0mfloat32\u001b[0m\u001b[1;33m)\u001b[0m\u001b[1;33m\u001b[0m\u001b[1;33m\u001b[0m\u001b[0m\n",
      "\u001b[1;31mNameError\u001b[0m: name 'np' is not defined"
     ]
    }
   ],
   "source": [
    "height, width = 300, 200\n",
    "\n",
    "srcQuad = np.zeros((4, 2), dtype=np.float32)\n",
    "#dstQuad = np.zeros((4, 2), dtype=np.float32)\n",
    "dstQuad = np.array([[0, 0], [width-1, 0], [width - 1, height -1], [0, height-1]], dtype=np.float32)\n",
    "\n",
    "cnt = 0\n",
    "\n",
    "def onMouse(event, x, y, flags, param):\n",
    "    global cnt\n",
    "    \n",
    "    if event == cv2.EVENT_LBUTTONDOWN:\n",
    "        if cnt < 4:\n",
    "            srcQuad[cnt] = np.array([x, y], dtype=np.float32)\n",
    "            cv2.circle(param[0], (x, y), 5, (255, 0, 0), 2)\n",
    "            cv2.imshow('src', param[0])\n",
    "            cnt += 1\n",
    "        if cnt == 4:\n",
    "            M = cv2.getPerspectiveTransform(srcQuad, dstQuad)\n",
    "            dst = cv2.warpPerspective(param[0], M, (width, height))\n",
    "            cv2.imshow('dst', dst)\n",
    "        \n",
    "src = cv2.imread('./data/card.bmp')\n",
    "cv2.imshow('src', src)                          \n",
    "cv2.setMouseCallback('src', onMouse, [src])\n",
    "\n",
    "cv2.waitKey()\n",
    "cv2.destroyAllWindows()"
   ]
  },
  {
   "cell_type": "code",
   "execution_count": null,
   "id": "55f5a2e3",
   "metadata": {},
   "outputs": [],
   "source": []
  }
 ],
 "metadata": {
  "kernelspec": {
   "display_name": "Python 3",
   "language": "python",
   "name": "python3"
  },
  "language_info": {
   "codemirror_mode": {
    "name": "ipython",
    "version": 3
   },
   "file_extension": ".py",
   "mimetype": "text/x-python",
   "name": "python",
   "nbconvert_exporter": "python",
   "pygments_lexer": "ipython3",
   "version": "3.8.8"
  }
 },
 "nbformat": 4,
 "nbformat_minor": 5
}
