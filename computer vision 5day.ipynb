{
 "cells": [
  {
   "cell_type": "code",
   "execution_count": 46,
   "id": "3e786536",
   "metadata": {},
   "outputs": [],
   "source": [
    "import cv2\n",
    "import numpy as np"
   ]
  },
  {
   "cell_type": "markdown",
   "id": "34154cdc",
   "metadata": {},
   "source": [
    "* 양방향 필터"
   ]
  },
  {
   "cell_type": "code",
   "execution_count": 38,
   "id": "8d732967",
   "metadata": {},
   "outputs": [],
   "source": [
    "src = cv2.imread('./data/lena.bmp', cv2.IMREAD_GRAYSCALE)\n",
    "\n",
    "data = np.zeros(src.shape, dtype=np.uint8)\n",
    "noise = cv2.randn(data, mean=0, stddev=10)\n",
    "\n",
    "src_noise = cv2.add(src, noise)\n",
    "\n",
    "dst1 = cv2.GaussianBlur(src_noise, ksize=(7, 7), sigmaX=10) #가우시안 필터 잡음은 제거되는데 엣지가 사라짐\n",
    "dst2 = cv2.bilateralFilter(src_noise, -1, sigmaColor=20, sigmaSpace=10) #10 차이가 나면 놔둔다. 엣지도 꽤나 살림\n",
    "#sigmaColor을 크게하면 엣지의 기준이 올라가서 엣지가 꽤나 줄어들고 선명도가 살짝 낮아진다.\n",
    "\n",
    "\n",
    "cv2.imshow('src', src)\n",
    "cv2.imshow('src_noise', src_noise)\n",
    "cv2.imshow('dst1', dst1)\n",
    "cv2.imshow('dst2', dst2)\n",
    "cv2.waitKey()\n",
    "cv2.destroyAllWindows()"
   ]
  },
  {
   "cell_type": "markdown",
   "id": "ed0ee374",
   "metadata": {},
   "source": [
    "* 미디언 필터"
   ]
  },
  {
   "cell_type": "code",
   "execution_count": 30,
   "id": "07d8bc30",
   "metadata": {},
   "outputs": [],
   "source": [
    "src = cv2.imread('./data/lena.bmp', cv2.IMREAD_GRAYSCALE)"
   ]
  },
  {
   "cell_type": "code",
   "execution_count": 35,
   "id": "d34d7af5",
   "metadata": {},
   "outputs": [],
   "source": [
    "num = src.shape[0] * src.shape[1] * 0.1 #0.1을 안곱하면 너무 커짐"
   ]
  },
  {
   "cell_type": "code",
   "execution_count": 36,
   "id": "eaa7190c",
   "metadata": {},
   "outputs": [
    {
     "data": {
      "text/plain": [
       "(512, 512)"
      ]
     },
     "execution_count": 36,
     "metadata": {},
     "output_type": "execute_result"
    }
   ],
   "source": [
    "src.shape"
   ]
  },
  {
   "cell_type": "code",
   "execution_count": 45,
   "id": "75dd9cf8",
   "metadata": {
    "scrolled": true
   },
   "outputs": [],
   "source": [
    "for i in range(np.int64(num)):\n",
    "    x = np.random.randint(src.shape[1])\n",
    "    y = np.random.randint(src.shape[0])\n",
    "    src[y, x] = (i % 2) * 255 # 0과 1이 반복되어 0과 255로만 집어넣기.\n",
    "    \n",
    "gaussian = cv2.GaussianBlur(src, ksize=(7, 7), sigmaX=5)\n",
    "median = cv2.medianBlur(src, ksize=7) #1, 3, 5, 7을 넣어야한다. 홀수여야지  중간 값이 있기에\n",
    "\n",
    "cv2.imshow('src', src)\n",
    "cv2.imshow('gaussian', gaussian)\n",
    "cv2.imshow('median', median)\n",
    "cv2.waitKey()\n",
    "cv2.destroyAllWindows()"
   ]
  },
  {
   "cell_type": "code",
   "execution_count": 48,
   "id": "b9007b30",
   "metadata": {},
   "outputs": [],
   "source": [
    "cv2.destroyAllWindows()"
   ]
  },
  {
   "cell_type": "markdown",
   "id": "c4270812",
   "metadata": {},
   "source": [
    "# 모폴로지 연산"
   ]
  },
  {
   "cell_type": "markdown",
   "id": "ec8a02fa",
   "metadata": {},
   "source": [
    "* 침식과 팽창"
   ]
  },
  {
   "cell_type": "code",
   "execution_count": 49,
   "id": "4b8ceb64",
   "metadata": {},
   "outputs": [],
   "source": [
    "src = cv2.imread('./data/morphology.jpg', cv2.IMREAD_GRAYSCALE)\n",
    "\n",
    "kernel = cv2.getStructuringElement(shape=cv2.MORPH_RECT, ksize=(3,3))\n",
    "\n",
    "erode = cv2.erode(src, kernel, iterations=5)\n",
    "dilate = cv2.dilate(src, kernel, iterations=5)\n",
    "\n",
    "cv2.imshow('src', src)\n",
    "cv2.imshow('erode', erode) #침식 구멍이 커지고 자그만 픽셀 사라짐\n",
    "cv2.imshow('dilate', dilate) # 팽창 구멍이 사라지지만 자그만 픽셀이 다시생김\n",
    "cv2.waitKey()\n",
    "cv2.destroyAllWindows()"
   ]
  },
  {
   "cell_type": "markdown",
   "id": "48e4a1d8",
   "metadata": {},
   "source": [
    "* 열기와 닫기"
   ]
  },
  {
   "cell_type": "code",
   "execution_count": null,
   "id": "f77f2c24",
   "metadata": {},
   "outputs": [],
   "source": [
    "src = cv2.imread('./data/morphology.jpg', cv2.IMREAD_GRAYSCALE)\n",
    "\n",
    "kernel = cv2.getStructuringElement(shape=cv2.MORPH_RECT, ksize=(3,3))\n",
    "\n",
    "closing = cv2.morphologyEx(src, cv2.MORPH_CLOSE, kernel, iterations=4)\n",
    "opening = cv2.morphologyEx(src, cv2.MORPH_OPEN, kernel, iterations=4)\n",
    "\n",
    "cv2.imshow('src', src)\n",
    "cv2.imshow('opening', opening) #열기(축소 팽창) 작은 픽셀 사라짐 구멍 있음\n",
    "cv2.imshow('closing', closing) #닫기(팽창, 축소)  구멍이 사라짐 작은 픽셀 있음\n",
    "cv2.waitKey()\n",
    "cv2.destroyAllWindows()"
   ]
  },
  {
   "cell_type": "code",
   "execution_count": 59,
   "id": "4bd17337",
   "metadata": {},
   "outputs": [],
   "source": [
    "src = cv2.imread('./data/morphology.jpg', cv2.IMREAD_GRAYSCALE)\n",
    "\n",
    "kernel = cv2.getStructuringElement(shape=cv2.MORPH_RECT, ksize=(3,3))\n",
    "\n",
    "closing = cv2.morphologyEx(src, cv2.MORPH_CLOSE, kernel, iterations=4)\n",
    "open_close = cv2.morphologyEx(closing, cv2.MORPH_OPEN, kernel, iterations=4)\n",
    "\n",
    "cv2.imshow('src', src)\n",
    "cv2.imshow('open_close', open_close) #작은픽셀도 사라지고 구멍도 사라짐\n",
    "cv2.waitKey()\n",
    "cv2.destroyAllWindows()"
   ]
  },
  {
   "cell_type": "markdown",
   "id": "7850667a",
   "metadata": {},
   "source": [
    "# 에지(엣지) 검출과 응용"
   ]
  },
  {
   "cell_type": "markdown",
   "id": "63d20087",
   "metadata": {},
   "source": [
    "* 미분 필터"
   ]
  },
  {
   "cell_type": "code",
   "execution_count": 110,
   "id": "663b66c8",
   "metadata": {},
   "outputs": [],
   "source": [
    "#src = cv2.imread('./data/lena.jpg', cv2.IMREAD_GRAYSCALE)\n",
    "src = cv2.imread('./data/rect.jpg', cv2.IMREAD_GRAYSCALE)\n",
    "\n",
    "gx = cv2.Sobel(src, cv2.CV_32F, 1, 0, ksize=3) #소벨마스크 기본마스크 보다 성능이 좋다. 32F는 부동 소수점이다. 1, 0 은 dx, dy이다. x가 1이므로 x의 미분\n",
    "gy = cv2.Sobel(src, cv2.CV_32F, 0, 1, ksize=3) # x, y가 0, 1이므로 y에 대한 미분.\n",
    "\n",
    "dstX = cv2.sqrt(np.abs(gx))\n",
    "dstX = cv2.normalize(dstX, None, 0, 255, cv2.NORM_MINMAX, dtype=cv2.CV_8U) #펼치는 것임 색이 다양해짐. 8U는 uint8임\n",
    "\n",
    "dstY = cv2.sqrt(np.abs(gy))\n",
    "dstY = cv2.normalize(dstY, None, 0, 255, cv2.NORM_MINMAX, dtype=cv2.CV_8U) #펼치는 것임 색이 다양해짐. 8U는 uint8임\n",
    "\n",
    "mag = cv2.magnitude(gx, gy) #벡터 크기 구해줌 화살표의 길이 np.ndarray의 형태이며 0이 최소, 1000정도가 최대\n",
    "dstM = cv2.normalize(mag, None, 0, 255, cv2.NORM_MINMAX, dtype=cv2.CV_8U)\n",
    "\n",
    "ret, edge = cv2.threshold(mag, 120, 255, cv2.THRESH_BINARY) #이진 분류로 만듦 더 뚜렷하게 하려고 임계치가 적당해야지 보기 편함\n",
    "edge = edge.astype(np.uint8)\n",
    "\n",
    "cv2.imshow('src', src)\n",
    "cv2.imshow('dstX', dstX) #X축에 대해서다보니 가로에만 영향\n",
    "cv2.imshow('dstY', dstY) #Y축에 대해서다보니 세로에만 영향\n",
    "cv2.imshow('dstM', dstM) # 가로 세로모두에 대해 영향을 받음 뚜렷하게 보인다.\n",
    "cv2.imshow('edge', edge) #내가 만든 에지\n",
    "cv2.waitKey()\n",
    "cv2.destroyAllWindows()\n",
    "# 가우시안 블러로 노이즈를 조금 제거하면 결과가 더 좋을 듯."
   ]
  },
  {
   "cell_type": "code",
   "execution_count": 98,
   "id": "6c58049e",
   "metadata": {},
   "outputs": [
    {
     "data": {
      "text/plain": [
       "dtype('float32')"
      ]
     },
     "execution_count": 98,
     "metadata": {},
     "output_type": "execute_result"
    }
   ],
   "source": [
    "edge.d"
   ]
  },
  {
   "cell_type": "code",
   "execution_count": 115,
   "id": "afe40df2",
   "metadata": {},
   "outputs": [],
   "source": [
    "src = cv2.imread('./data/lena.jpg', cv2.IMREAD_GRAYSCALE)\n",
    "blur = cv2.GaussianBlur(src, ksize=(7, 7), sigmaX=0.0)"
   ]
  },
  {
   "cell_type": "code",
   "execution_count": 120,
   "id": "e7774d75",
   "metadata": {},
   "outputs": [],
   "source": [
    "gx1 = cv2.Sobel(src, cv2.CV_32F, 1, 0, ksize=3)\n",
    "gy1 = cv2.Sobel(src, cv2.CV_32F, 0, 1, ksize=3)\n",
    "mag1, angle1 = cv2.cartToPolar(gx1, gy1, angleInDegrees=True) #벡터의 크기뿐 아니라 방향도 구해줌"
   ]
  },
  {
   "cell_type": "code",
   "execution_count": 121,
   "id": "63dec3d0",
   "metadata": {},
   "outputs": [],
   "source": [
    "gx2 = cv2.Sobel(blur, cv2.CV_32F, 1, 0, ksize=3)\n",
    "gy2 = cv2.Sobel(blur, cv2.CV_32F, 0, 1, ksize=3)\n",
    "mag2, angle2 = cv2.cartToPolar(gx2, gy2, angleInDegrees=True)"
   ]
  },
  {
   "cell_type": "code",
   "execution_count": 122,
   "id": "01b8f9b1",
   "metadata": {},
   "outputs": [],
   "source": [
    "ret1, edge1 = cv2.threshold(mag1, 100, 255, cv2.THRESH_BINARY)\n",
    "edge1 = edge1.astype(np.uint8)"
   ]
  },
  {
   "cell_type": "code",
   "execution_count": 123,
   "id": "83f0f3cb",
   "metadata": {},
   "outputs": [],
   "source": [
    "ret2, edge2 = cv2.threshold(mag2, 100, 255, cv2.THRESH_BINARY)\n",
    "edge2 = edge2.astype(np.uint8)"
   ]
  },
  {
   "cell_type": "code",
   "execution_count": 125,
   "id": "8b3b4aba",
   "metadata": {},
   "outputs": [],
   "source": [
    "#cv2.imshow('src', src)\n",
    "cv2.imshow('edge1', edge1)\n",
    "cv2.imshow('edge2', edge2) #가우시안 블러를 한 것이 디테일은 부족해도 부드럽고 깔끔함 차이가 확실히 있다. \n",
    "cv2.waitKey()\n",
    "cv2.destroyAllWindows()"
   ]
  },
  {
   "cell_type": "code",
   "execution_count": null,
   "id": "563d2c0c",
   "metadata": {},
   "outputs": [],
   "source": []
  },
  {
   "cell_type": "code",
   "execution_count": null,
   "id": "1158a51b",
   "metadata": {},
   "outputs": [],
   "source": []
  }
 ],
 "metadata": {
  "kernelspec": {
   "display_name": "Python 3",
   "language": "python",
   "name": "python3"
  },
  "language_info": {
   "codemirror_mode": {
    "name": "ipython",
    "version": 3
   },
   "file_extension": ".py",
   "mimetype": "text/x-python",
   "name": "python",
   "nbconvert_exporter": "python",
   "pygments_lexer": "ipython3",
   "version": "3.8.8"
  }
 },
 "nbformat": 4,
 "nbformat_minor": 5
}
